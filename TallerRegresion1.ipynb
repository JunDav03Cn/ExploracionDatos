{
  "cells": [
    {
      "cell_type": "markdown",
      "id": "cecf7a01",
      "metadata": {
        "id": "cecf7a01"
      },
      "source": [
        "\n",
        "\n",
        "# Análisis Completo de Regresión Lineal\n",
        "\n",
        "Este notebook muestra paso a paso cómo realizar un análisis de **Regresión Lineal** empleando un conjunto de datos que contiene:\n",
        "- **valuationdate**: fecha de valoración (opcional para el modelo)\n",
        "- **revenues**: ingresos\n",
        "- **ebit**: utilidad antes de intereses e impuestos\n",
        "- **depreciation**: depreciación\n",
        "- **capex**: gastos de capital\n",
        "- **ncwc**: cambio en capital de trabajo neto\n",
        "- **bv**: (posiblemente) valor en libros\n",
        "- **y**: variable objetivo que deseamos predecir (por ejemplo, un valor financiero o de valoración)\n",
        "\n",
        "Iremos desde la **carga** y **exploración** del dataset hasta la **interpretación** de coeficientes y la **evaluación** de métricas importantes."
      ]
    },
    {
      "cell_type": "code",
      "source": [
        "!wget https://github.com/javierherrera1996/IntroMachineLearning/raw/refs/heads/main/PrimerCorte/RegresionLineal/enterprise.csv"
      ],
      "metadata": {
        "colab": {
          "base_uri": "https://localhost:8080/"
        },
        "id": "LCuTCvghz5bk",
        "outputId": "d3fe106c-d1a9-4c6c-b8da-c7550f44689f"
      },
      "id": "LCuTCvghz5bk",
      "execution_count": 1,
      "outputs": [
        {
          "output_type": "stream",
          "name": "stdout",
          "text": [
            "--2025-03-06 00:20:58--  https://github.com/javierherrera1996/IntroMachineLearning/raw/refs/heads/main/PrimerCorte/RegresionLineal/enterprise.csv\n",
            "Resolving github.com (github.com)... 140.82.113.3\n",
            "Connecting to github.com (github.com)|140.82.113.3|:443... connected.\n",
            "HTTP request sent, awaiting response... 302 Found\n",
            "Location: https://raw.githubusercontent.com/javierherrera1996/IntroMachineLearning/refs/heads/main/PrimerCorte/RegresionLineal/enterprise.csv [following]\n",
            "--2025-03-06 00:20:58--  https://raw.githubusercontent.com/javierherrera1996/IntroMachineLearning/refs/heads/main/PrimerCorte/RegresionLineal/enterprise.csv\n",
            "Resolving raw.githubusercontent.com (raw.githubusercontent.com)... 185.199.111.133, 185.199.109.133, 185.199.110.133, ...\n",
            "Connecting to raw.githubusercontent.com (raw.githubusercontent.com)|185.199.111.133|:443... connected.\n",
            "HTTP request sent, awaiting response... 200 OK\n",
            "Length: 82415 (80K) [text/plain]\n",
            "Saving to: ‘enterprise.csv’\n",
            "\n",
            "enterprise.csv      100%[===================>]  80.48K  --.-KB/s    in 0.05s   \n",
            "\n",
            "2025-03-06 00:20:58 (1.57 MB/s) - ‘enterprise.csv’ saved [82415/82415]\n",
            "\n"
          ]
        }
      ]
    },
    {
      "cell_type": "markdown",
      "id": "7ceab41b",
      "metadata": {
        "id": "7ceab41b"
      },
      "source": [
        "## Paso 0: Importar librerías y configuración"
      ]
    },
    {
      "cell_type": "code",
      "execution_count": 2,
      "id": "99b373c1",
      "metadata": {
        "id": "99b373c1"
      },
      "outputs": [],
      "source": [
        "import pandas as pd\n",
        "import numpy as np\n",
        "import matplotlib.pyplot as plt\n",
        "import seaborn as sns\n",
        "from sklearn.model_selection import train_test_split\n",
        "from sklearn.linear_model import LinearRegression\n",
        "from sklearn.metrics import mean_squared_error, r2_score\n",
        "from sklearn import preprocessing"
      ]
    },
    {
      "cell_type": "markdown",
      "id": "871d0c89",
      "metadata": {
        "id": "871d0c89"
      },
      "source": [
        "## Paso 1: Carga y Exploración de Datos (EDA)\n",
        "\n",
        "En este primer bloque, cargaremos nuestro dataset y realizaremos un Análisis Exploratorio básico."
      ]
    },
    {
      "cell_type": "code",
      "execution_count": 4,
      "id": "bc8b2753",
      "metadata": {
        "id": "bc8b2753",
        "outputId": "405dec1e-55af-4788-d41f-4f515365b2e4",
        "colab": {
          "base_uri": "https://localhost:8080/",
          "height": 206
        }
      },
      "outputs": [
        {
          "output_type": "execute_result",
          "data": {
            "text/plain": [
              "  valuationdate    revenues          ebit  depreciation      capex  \\\n",
              "0    30/06/2011  86470.7000  10387.500000      6429.000   3512.000   \n",
              "1    31/12/2010  84754.2000  14031.180800      8658.600  17172.500   \n",
              "2    30/09/2016  15653.4800    221.347452       647.239    749.478   \n",
              "3    30/09/2018  62001.3297   7551.761957      1808.830   2702.850   \n",
              "4    30/09/2014   1242.8300    497.141501       232.027   1552.908   \n",
              "\n",
              "          ncwc         bv             y  \n",
              "0  16848.90000  47945.100   91760.80000  \n",
              "1  12095.10000  66804.400  184461.70000  \n",
              "2   1468.42800  10128.726   23323.68520  \n",
              "3  11873.25464  27144.930  130202.79240  \n",
              "4    149.97100   1463.052   11472.12267  "
            ],
            "text/html": [
              "\n",
              "  <div id=\"df-f1855428-6655-4455-8dbe-f5b781b7a9d5\" class=\"colab-df-container\">\n",
              "    <div>\n",
              "<style scoped>\n",
              "    .dataframe tbody tr th:only-of-type {\n",
              "        vertical-align: middle;\n",
              "    }\n",
              "\n",
              "    .dataframe tbody tr th {\n",
              "        vertical-align: top;\n",
              "    }\n",
              "\n",
              "    .dataframe thead th {\n",
              "        text-align: right;\n",
              "    }\n",
              "</style>\n",
              "<table border=\"1\" class=\"dataframe\">\n",
              "  <thead>\n",
              "    <tr style=\"text-align: right;\">\n",
              "      <th></th>\n",
              "      <th>valuationdate</th>\n",
              "      <th>revenues</th>\n",
              "      <th>ebit</th>\n",
              "      <th>depreciation</th>\n",
              "      <th>capex</th>\n",
              "      <th>ncwc</th>\n",
              "      <th>bv</th>\n",
              "      <th>y</th>\n",
              "    </tr>\n",
              "  </thead>\n",
              "  <tbody>\n",
              "    <tr>\n",
              "      <th>0</th>\n",
              "      <td>30/06/2011</td>\n",
              "      <td>86470.7000</td>\n",
              "      <td>10387.500000</td>\n",
              "      <td>6429.000</td>\n",
              "      <td>3512.000</td>\n",
              "      <td>16848.90000</td>\n",
              "      <td>47945.100</td>\n",
              "      <td>91760.80000</td>\n",
              "    </tr>\n",
              "    <tr>\n",
              "      <th>1</th>\n",
              "      <td>31/12/2010</td>\n",
              "      <td>84754.2000</td>\n",
              "      <td>14031.180800</td>\n",
              "      <td>8658.600</td>\n",
              "      <td>17172.500</td>\n",
              "      <td>12095.10000</td>\n",
              "      <td>66804.400</td>\n",
              "      <td>184461.70000</td>\n",
              "    </tr>\n",
              "    <tr>\n",
              "      <th>2</th>\n",
              "      <td>30/09/2016</td>\n",
              "      <td>15653.4800</td>\n",
              "      <td>221.347452</td>\n",
              "      <td>647.239</td>\n",
              "      <td>749.478</td>\n",
              "      <td>1468.42800</td>\n",
              "      <td>10128.726</td>\n",
              "      <td>23323.68520</td>\n",
              "    </tr>\n",
              "    <tr>\n",
              "      <th>3</th>\n",
              "      <td>30/09/2018</td>\n",
              "      <td>62001.3297</td>\n",
              "      <td>7551.761957</td>\n",
              "      <td>1808.830</td>\n",
              "      <td>2702.850</td>\n",
              "      <td>11873.25464</td>\n",
              "      <td>27144.930</td>\n",
              "      <td>130202.79240</td>\n",
              "    </tr>\n",
              "    <tr>\n",
              "      <th>4</th>\n",
              "      <td>30/09/2014</td>\n",
              "      <td>1242.8300</td>\n",
              "      <td>497.141501</td>\n",
              "      <td>232.027</td>\n",
              "      <td>1552.908</td>\n",
              "      <td>149.97100</td>\n",
              "      <td>1463.052</td>\n",
              "      <td>11472.12267</td>\n",
              "    </tr>\n",
              "  </tbody>\n",
              "</table>\n",
              "</div>\n",
              "    <div class=\"colab-df-buttons\">\n",
              "\n",
              "  <div class=\"colab-df-container\">\n",
              "    <button class=\"colab-df-convert\" onclick=\"convertToInteractive('df-f1855428-6655-4455-8dbe-f5b781b7a9d5')\"\n",
              "            title=\"Convert this dataframe to an interactive table.\"\n",
              "            style=\"display:none;\">\n",
              "\n",
              "  <svg xmlns=\"http://www.w3.org/2000/svg\" height=\"24px\" viewBox=\"0 -960 960 960\">\n",
              "    <path d=\"M120-120v-720h720v720H120Zm60-500h600v-160H180v160Zm220 220h160v-160H400v160Zm0 220h160v-160H400v160ZM180-400h160v-160H180v160Zm440 0h160v-160H620v160ZM180-180h160v-160H180v160Zm440 0h160v-160H620v160Z\"/>\n",
              "  </svg>\n",
              "    </button>\n",
              "\n",
              "  <style>\n",
              "    .colab-df-container {\n",
              "      display:flex;\n",
              "      gap: 12px;\n",
              "    }\n",
              "\n",
              "    .colab-df-convert {\n",
              "      background-color: #E8F0FE;\n",
              "      border: none;\n",
              "      border-radius: 50%;\n",
              "      cursor: pointer;\n",
              "      display: none;\n",
              "      fill: #1967D2;\n",
              "      height: 32px;\n",
              "      padding: 0 0 0 0;\n",
              "      width: 32px;\n",
              "    }\n",
              "\n",
              "    .colab-df-convert:hover {\n",
              "      background-color: #E2EBFA;\n",
              "      box-shadow: 0px 1px 2px rgba(60, 64, 67, 0.3), 0px 1px 3px 1px rgba(60, 64, 67, 0.15);\n",
              "      fill: #174EA6;\n",
              "    }\n",
              "\n",
              "    .colab-df-buttons div {\n",
              "      margin-bottom: 4px;\n",
              "    }\n",
              "\n",
              "    [theme=dark] .colab-df-convert {\n",
              "      background-color: #3B4455;\n",
              "      fill: #D2E3FC;\n",
              "    }\n",
              "\n",
              "    [theme=dark] .colab-df-convert:hover {\n",
              "      background-color: #434B5C;\n",
              "      box-shadow: 0px 1px 3px 1px rgba(0, 0, 0, 0.15);\n",
              "      filter: drop-shadow(0px 1px 2px rgba(0, 0, 0, 0.3));\n",
              "      fill: #FFFFFF;\n",
              "    }\n",
              "  </style>\n",
              "\n",
              "    <script>\n",
              "      const buttonEl =\n",
              "        document.querySelector('#df-f1855428-6655-4455-8dbe-f5b781b7a9d5 button.colab-df-convert');\n",
              "      buttonEl.style.display =\n",
              "        google.colab.kernel.accessAllowed ? 'block' : 'none';\n",
              "\n",
              "      async function convertToInteractive(key) {\n",
              "        const element = document.querySelector('#df-f1855428-6655-4455-8dbe-f5b781b7a9d5');\n",
              "        const dataTable =\n",
              "          await google.colab.kernel.invokeFunction('convertToInteractive',\n",
              "                                                    [key], {});\n",
              "        if (!dataTable) return;\n",
              "\n",
              "        const docLinkHtml = 'Like what you see? Visit the ' +\n",
              "          '<a target=\"_blank\" href=https://colab.research.google.com/notebooks/data_table.ipynb>data table notebook</a>'\n",
              "          + ' to learn more about interactive tables.';\n",
              "        element.innerHTML = '';\n",
              "        dataTable['output_type'] = 'display_data';\n",
              "        await google.colab.output.renderOutput(dataTable, element);\n",
              "        const docLink = document.createElement('div');\n",
              "        docLink.innerHTML = docLinkHtml;\n",
              "        element.appendChild(docLink);\n",
              "      }\n",
              "    </script>\n",
              "  </div>\n",
              "\n",
              "\n",
              "<div id=\"df-8f9f0360-f527-4a51-b075-77591ea3bf3e\">\n",
              "  <button class=\"colab-df-quickchart\" onclick=\"quickchart('df-8f9f0360-f527-4a51-b075-77591ea3bf3e')\"\n",
              "            title=\"Suggest charts\"\n",
              "            style=\"display:none;\">\n",
              "\n",
              "<svg xmlns=\"http://www.w3.org/2000/svg\" height=\"24px\"viewBox=\"0 0 24 24\"\n",
              "     width=\"24px\">\n",
              "    <g>\n",
              "        <path d=\"M19 3H5c-1.1 0-2 .9-2 2v14c0 1.1.9 2 2 2h14c1.1 0 2-.9 2-2V5c0-1.1-.9-2-2-2zM9 17H7v-7h2v7zm4 0h-2V7h2v10zm4 0h-2v-4h2v4z\"/>\n",
              "    </g>\n",
              "</svg>\n",
              "  </button>\n",
              "\n",
              "<style>\n",
              "  .colab-df-quickchart {\n",
              "      --bg-color: #E8F0FE;\n",
              "      --fill-color: #1967D2;\n",
              "      --hover-bg-color: #E2EBFA;\n",
              "      --hover-fill-color: #174EA6;\n",
              "      --disabled-fill-color: #AAA;\n",
              "      --disabled-bg-color: #DDD;\n",
              "  }\n",
              "\n",
              "  [theme=dark] .colab-df-quickchart {\n",
              "      --bg-color: #3B4455;\n",
              "      --fill-color: #D2E3FC;\n",
              "      --hover-bg-color: #434B5C;\n",
              "      --hover-fill-color: #FFFFFF;\n",
              "      --disabled-bg-color: #3B4455;\n",
              "      --disabled-fill-color: #666;\n",
              "  }\n",
              "\n",
              "  .colab-df-quickchart {\n",
              "    background-color: var(--bg-color);\n",
              "    border: none;\n",
              "    border-radius: 50%;\n",
              "    cursor: pointer;\n",
              "    display: none;\n",
              "    fill: var(--fill-color);\n",
              "    height: 32px;\n",
              "    padding: 0;\n",
              "    width: 32px;\n",
              "  }\n",
              "\n",
              "  .colab-df-quickchart:hover {\n",
              "    background-color: var(--hover-bg-color);\n",
              "    box-shadow: 0 1px 2px rgba(60, 64, 67, 0.3), 0 1px 3px 1px rgba(60, 64, 67, 0.15);\n",
              "    fill: var(--button-hover-fill-color);\n",
              "  }\n",
              "\n",
              "  .colab-df-quickchart-complete:disabled,\n",
              "  .colab-df-quickchart-complete:disabled:hover {\n",
              "    background-color: var(--disabled-bg-color);\n",
              "    fill: var(--disabled-fill-color);\n",
              "    box-shadow: none;\n",
              "  }\n",
              "\n",
              "  .colab-df-spinner {\n",
              "    border: 2px solid var(--fill-color);\n",
              "    border-color: transparent;\n",
              "    border-bottom-color: var(--fill-color);\n",
              "    animation:\n",
              "      spin 1s steps(1) infinite;\n",
              "  }\n",
              "\n",
              "  @keyframes spin {\n",
              "    0% {\n",
              "      border-color: transparent;\n",
              "      border-bottom-color: var(--fill-color);\n",
              "      border-left-color: var(--fill-color);\n",
              "    }\n",
              "    20% {\n",
              "      border-color: transparent;\n",
              "      border-left-color: var(--fill-color);\n",
              "      border-top-color: var(--fill-color);\n",
              "    }\n",
              "    30% {\n",
              "      border-color: transparent;\n",
              "      border-left-color: var(--fill-color);\n",
              "      border-top-color: var(--fill-color);\n",
              "      border-right-color: var(--fill-color);\n",
              "    }\n",
              "    40% {\n",
              "      border-color: transparent;\n",
              "      border-right-color: var(--fill-color);\n",
              "      border-top-color: var(--fill-color);\n",
              "    }\n",
              "    60% {\n",
              "      border-color: transparent;\n",
              "      border-right-color: var(--fill-color);\n",
              "    }\n",
              "    80% {\n",
              "      border-color: transparent;\n",
              "      border-right-color: var(--fill-color);\n",
              "      border-bottom-color: var(--fill-color);\n",
              "    }\n",
              "    90% {\n",
              "      border-color: transparent;\n",
              "      border-bottom-color: var(--fill-color);\n",
              "    }\n",
              "  }\n",
              "</style>\n",
              "\n",
              "  <script>\n",
              "    async function quickchart(key) {\n",
              "      const quickchartButtonEl =\n",
              "        document.querySelector('#' + key + ' button');\n",
              "      quickchartButtonEl.disabled = true;  // To prevent multiple clicks.\n",
              "      quickchartButtonEl.classList.add('colab-df-spinner');\n",
              "      try {\n",
              "        const charts = await google.colab.kernel.invokeFunction(\n",
              "            'suggestCharts', [key], {});\n",
              "      } catch (error) {\n",
              "        console.error('Error during call to suggestCharts:', error);\n",
              "      }\n",
              "      quickchartButtonEl.classList.remove('colab-df-spinner');\n",
              "      quickchartButtonEl.classList.add('colab-df-quickchart-complete');\n",
              "    }\n",
              "    (() => {\n",
              "      let quickchartButtonEl =\n",
              "        document.querySelector('#df-8f9f0360-f527-4a51-b075-77591ea3bf3e button');\n",
              "      quickchartButtonEl.style.display =\n",
              "        google.colab.kernel.accessAllowed ? 'block' : 'none';\n",
              "    })();\n",
              "  </script>\n",
              "</div>\n",
              "\n",
              "    </div>\n",
              "  </div>\n"
            ],
            "application/vnd.google.colaboratory.intrinsic+json": {
              "type": "dataframe",
              "variable_name": "df",
              "summary": "{\n  \"name\": \"df\",\n  \"rows\": 1061,\n  \"fields\": [\n    {\n      \"column\": \"valuationdate\",\n      \"properties\": {\n        \"dtype\": \"category\",\n        \"num_unique_values\": 49,\n        \"samples\": [\n          \"31/03/2020\",\n          \"30/06/2017\",\n          \"31/12/2018\"\n        ],\n        \"semantic_type\": \"\",\n        \"description\": \"\"\n      }\n    },\n    {\n      \"column\": \"revenues\",\n      \"properties\": {\n        \"dtype\": \"number\",\n        \"std\": 221382.7533677901,\n        \"min\": 85.6,\n        \"max\": 2586711.9,\n        \"num_unique_values\": 1060,\n        \"samples\": [\n          140085.0,\n          181429.1,\n          34462.787\n        ],\n        \"semantic_type\": \"\",\n        \"description\": \"\"\n      }\n    },\n    {\n      \"column\": \"ebit\",\n      \"properties\": {\n        \"dtype\": \"number\",\n        \"std\": 31871.07655869133,\n        \"min\": -29982.97988,\n        \"max\": 289541.3,\n        \"num_unique_values\": 1061,\n        \"samples\": [\n          5786.05018,\n          19143.356,\n          26110.491\n        ],\n        \"semantic_type\": \"\",\n        \"description\": \"\"\n      }\n    },\n    {\n      \"column\": \"depreciation\",\n      \"properties\": {\n        \"dtype\": \"number\",\n        \"std\": 13898.135849449449,\n        \"min\": -5.69,\n        \"max\": 128993.5,\n        \"num_unique_values\": 1059,\n        \"samples\": [\n          1266.333,\n          3073.49,\n          1106.583\n        ],\n        \"semantic_type\": \"\",\n        \"description\": \"\"\n      }\n    },\n    {\n      \"column\": \"capex\",\n      \"properties\": {\n        \"dtype\": \"number\",\n        \"std\": 20250.735197325204,\n        \"min\": -694.661,\n        \"max\": 205525.7,\n        \"num_unique_values\": 1059,\n        \"samples\": [\n          5375.4,\n          4574.8,\n          2380.899\n        ],\n        \"semantic_type\": \"\",\n        \"description\": \"\"\n      }\n    },\n    {\n      \"column\": \"ncwc\",\n      \"properties\": {\n        \"dtype\": \"number\",\n        \"std\": 54636.42153952822,\n        \"min\": -118819.899,\n        \"max\": 623588.7,\n        \"num_unique_values\": 1061,\n        \"samples\": [\n          6842.249303,\n          11882.335,\n          34290.448\n        ],\n        \"semantic_type\": \"\",\n        \"description\": \"\"\n      }\n    },\n    {\n      \"column\": \"bv\",\n      \"properties\": {\n        \"dtype\": \"number\",\n        \"std\": 104349.9846115421,\n        \"min\": -15039.647,\n        \"max\": 1009025.8,\n        \"num_unique_values\": 1061,\n        \"samples\": [\n          45349.4,\n          39194.21,\n          71135.787\n        ],\n        \"semantic_type\": \"\",\n        \"description\": \"\"\n      }\n    },\n    {\n      \"column\": \"y\",\n      \"properties\": {\n        \"dtype\": \"number\",\n        \"std\": 405670.0618926025,\n        \"min\": 369.2,\n        \"max\": 4175891.774,\n        \"num_unique_values\": 1061,\n        \"samples\": [\n          122183.9,\n          157365.1432,\n          508840.3663\n        ],\n        \"semantic_type\": \"\",\n        \"description\": \"\"\n      }\n    }\n  ]\n}"
            }
          },
          "metadata": {},
          "execution_count": 4
        }
      ],
      "source": [
        "df = pd.read_csv('enterprise.csv')\n",
        "df.head()"
      ]
    },
    {
      "cell_type": "markdown",
      "id": "a80a3bc6",
      "metadata": {
        "id": "a80a3bc6"
      },
      "source": [
        "### Estadísticas Descriptivas y Distribuciones"
      ]
    },
    {
      "cell_type": "code",
      "execution_count": 5,
      "id": "e4ea6e54",
      "metadata": {
        "id": "e4ea6e54",
        "outputId": "bdfe98fa-8385-480b-b8bc-6b8832d1e849",
        "colab": {
          "base_uri": "https://localhost:8080/",
          "height": 1000
        }
      },
      "outputs": [
        {
          "output_type": "stream",
          "name": "stdout",
          "text": [
            "           revenues           ebit   depreciation          capex  \\\n",
            "count  1.061000e+03    1061.000000    1061.000000    1061.000000   \n",
            "mean   1.632727e+05   24076.406810    8002.050367   10961.602205   \n",
            "std    2.213828e+05   31871.076559   13898.135849   20250.735197   \n",
            "min    8.560000e+01  -29982.979880      -5.690000    -694.661000   \n",
            "25%    4.265958e+04    4522.900000     999.340000    1666.600000   \n",
            "50%    1.082011e+05   12224.611950    3446.250000    4949.447000   \n",
            "75%    1.862485e+05   32228.941870    8361.220000   11201.479000   \n",
            "max    2.586712e+06  289541.300000  128993.500000  205525.700000   \n",
            "\n",
            "                ncwc            bv             y  \n",
            "count    1061.000000  1.061000e+03  1.061000e+03  \n",
            "mean    22324.130946  8.057162e+04  3.292238e+05  \n",
            "std     54636.421540  1.043500e+05  4.056701e+05  \n",
            "min   -118819.899000 -1.503965e+04  3.692000e+02  \n",
            "25%      3115.247000  1.689500e+04  6.981010e+04  \n",
            "50%     10736.200000  4.172290e+04  1.850416e+05  \n",
            "75%     23454.185000  1.147563e+05  4.258273e+05  \n",
            "max    623588.700000  1.009026e+06  4.175892e+06  \n"
          ]
        },
        {
          "output_type": "display_data",
          "data": {
            "text/plain": [
              "<Figure size 800x600 with 1 Axes>"
            ],
            "image/png": "[encoded data removed]"
          },
          "metadata": {}
        },
        {
          "output_type": "display_data",
          "data": {
            "text/plain": [
              "<Figure size 800x600 with 1 Axes>"
            ],
            "image/png": "[encoded data removed]"
          },
          "metadata": {}
        },
        {
          "output_type": "display_data",
          "data": {
            "text/plain": [
              "<Figure size 800x600 with 1 Axes>"
            ],
            "image/png": "[encoded data removed]"
          },
          "metadata": {}
        },
        {
          "output_type": "display_data",
          "data": {
            "text/plain": [
              "<Figure size 800x600 with 1 Axes>"
            ],
            "image/png": "[encoded data removed]"
          },
          "metadata": {}
        },
        {
          "output_type": "display_data",
          "data": {
            "text/plain": [
              "<Figure size 800x600 with 1 Axes>"
            ],
            "image/png": "[encoded data removed]"
          },
          "metadata": {}
        },
        {
          "output_type": "display_data",
          "data": {
            "text/plain": [
              "<Figure size 800x600 with 1 Axes>"
            ],
            "image/png": "[encoded data removed]"
          },
          "metadata": {}
        },
        {
          "output_type": "display_data",
          "data": {
            "text/plain": [
              "<Figure size 800x600 with 1 Axes>"
            ],
            "image/png": "[encoded data removed]"
          },
          "metadata": {}
        }
      ],
      "source": [
        "print(df.describe())\n",
        "\n",
        "for col in df.columns:\n",
        "  if df[col].dtype != 'object':\n",
        "    plt.figure(figsize=(8, 6))\n",
        "    sns.histplot(df[col], kde=True)\n",
        "    plt.title(f'Distribución de {col}')\n",
        "    plt.xlabel(col)\n",
        "    plt.ylabel('Frecuencia')\n",
        "    plt.show()\n"
      ]
    },
    {
      "cell_type": "markdown",
      "id": "9651d690",
      "metadata": {
        "id": "9651d690"
      },
      "source": [
        "### Preguntas de Reflexión (Exploración)\n",
        "1. ¿Qué tipo de problema estás intentando resolver al usar `y` como variable objetivo?\n",
        "2. ¿Notas valores atípicos (outliers) en alguna de las variables? ¿Cómo podría afectar a la regresión lineal?\n",
        "3. ¿Crees que la columna `valuationdate` podría aportar información para predecir `y`, o la excluirías del análisis?\n",
        "\n",
        "_Responde con tu razonamiento propio aquí._"
      ]
    },
    {
      "cell_type": "markdown",
      "id": "32046c34",
      "metadata": {
        "id": "32046c34"
      },
      "source": [
        "## Paso 2: Preparación y Limpieza de Datos\n",
        "\n",
        "1. **Manejo de valores faltantes**.\n",
        "2. **Posible eliminación** o **imputación** de outliers.\n",
        "3. **Transformaciones** (escalado, log, etc.) si son necesarias."
      ]
    },
    {
      "cell_type": "code",
      "execution_count": 6,
      "id": "f5b80422",
      "metadata": {
        "id": "f5b80422",
        "outputId": "9b4688fc-f0fc-44cd-8bca-8384ee701e69",
        "colab": {
          "base_uri": "https://localhost:8080/"
        }
      },
      "outputs": [
        {
          "output_type": "stream",
          "name": "stdout",
          "text": [
            "         revenues        ebit  depreciation       capex        ncwc  \\\n",
            "count  657.000000  657.000000    657.000000  657.000000  657.000000   \n",
            "mean     0.194179    0.302628      0.185400    0.273898    0.355963   \n",
            "std      0.176283    0.171958      0.173455    0.209899    0.202280   \n",
            "min      0.000000    0.000000      0.000000    0.000000    0.000000   \n",
            "25%      0.065368    0.186119      0.052797    0.111431    0.190896   \n",
            "50%      0.139212    0.240852      0.133841    0.199697    0.300331   \n",
            "75%      0.281097    0.366995      0.273554    0.385441    0.470907   \n",
            "max      1.000000    1.000000      1.000000    1.000000    1.000000   \n",
            "\n",
            "               bv              y  \n",
            "count  657.000000     657.000000  \n",
            "mean     0.327812  123153.474453  \n",
            "std      0.192086  102955.966608  \n",
            "min      0.000000     369.200000  \n",
            "25%      0.178932   44816.600000  \n",
            "50%      0.280202   90048.263420  \n",
            "75%      0.437380  177150.500000  \n",
            "max      1.000000  425827.300000  \n"
          ]
        }
      ],
      "source": [
        "df.dropna(inplace=True)\n",
        "\n",
        "for col in df.columns:\n",
        "    if df[col].dtype != 'object':\n",
        "        Q1 = df[col].quantile(0.25)\n",
        "        Q3 = df[col].quantile(0.75)\n",
        "        IQR = Q3 - Q1\n",
        "        lower_bound = Q1 - 1.5 * IQR\n",
        "        upper_bound = Q3 + 1.5 * IQR\n",
        "\n",
        "        df = df[(df[col] >= lower_bound) & (df[col] <= upper_bound)]\n",
        "\n",
        "numerical_cols = [col for col in df.columns if df[col].dtype != 'object' and col != 'y' and col != 'valuationdate']\n",
        "\n",
        "scaler = preprocessing.MinMaxScaler()\n",
        "df[numerical_cols] = scaler.fit_transform(df[numerical_cols])\n",
        "\n",
        "print(df.describe())"
      ]
    },
    {
      "cell_type": "markdown",
      "id": "2f0ef045",
      "metadata": {
        "id": "2f0ef045"
      },
      "source": [
        "### Pregunta de Reflexión (Limpieza)\n",
        "¿Por qué es relevante tratar valores faltantes y/o outliers **antes** de entrenar el modelo de regresión lineal?\n",
        "\n",
        "_Responde con tu razonamiento aquí._"
      ]
    },
    {
      "cell_type": "markdown",
      "id": "38c1f6f8",
      "metadata": {
        "id": "38c1f6f8"
      },
      "source": [
        "## Paso 4: Selección de Variables e Implementación del Modelo\n",
        "\n",
        "1. **Seleccionar** cuáles columnas usarás como variables explicativas (features). Puede que uses todas o hagas una selección.\n",
        "2. **Asignar** `X` (features) y `y` (variable objetivo).\n",
        "3. **Dividir** en conjunto de entrenamiento (train) y conjunto de prueba (test)."
      ]
    },
    {
      "cell_type": "code",
      "execution_count": 7,
      "id": "bdd7bace",
      "metadata": {
        "id": "bdd7bace"
      },
      "outputs": [],
      "source": [
        "features = ['revenues', 'ebit', 'depreciation', 'capex', 'ncwc', 'bv']\n",
        "X = df[features]\n",
        "y = df['y']\n",
        "\n",
        "X_train, X_test, y_train, y_test = train_test_split(X, y, test_size=0.2, random_state=42)"
      ]
    },
    {
      "cell_type": "markdown",
      "id": "2958d1c2",
      "metadata": {
        "id": "2958d1c2"
      },
      "source": [
        "### Preguntas de Reflexión (Selección de Variables)\n",
        "1. ¿Por qué es importante separar los datos en train y test?\n",
        "2. ¿Qué pasaría si entrenas y evalúas en el **mismo** conjunto de datos?\n",
        "\n",
        "_Responde con tu razonamiento._"
      ]
    },
    {
      "cell_type": "markdown",
      "id": "3b685686",
      "metadata": {
        "id": "3b685686"
      },
      "source": [
        "## Paso 5: Entrenar el Modelo de Regresión Lineal\n",
        "Usaremos la clase `LinearRegression` de scikit-learn."
      ]
    },
    {
      "cell_type": "code",
      "execution_count": 8,
      "id": "6cc35fa1",
      "metadata": {
        "id": "6cc35fa1",
        "outputId": "c32e37ab-344e-4e85-9df8-e339d31fd917",
        "colab": {
          "base_uri": "https://localhost:8080/",
          "height": 80
        }
      },
      "outputs": [
        {
          "output_type": "execute_result",
          "data": {
            "text/plain": [
              "LinearRegression()"
            ],
            "text/html": [
              "<style>#sk-container-id-1 {\n",
              "  /* Definition of color scheme common for light and dark mode */\n",
              "  --sklearn-color-text: #000;\n",
              "  --sklearn-color-text-muted: #666;\n",
              "  --sklearn-color-line: gray;\n",
              "  /* Definition of color scheme for unfitted estimators */\n",
              "  --sklearn-color-unfitted-level-0: #fff5e6;\n",
              "  --sklearn-color-unfitted-level-1: #f6e4d2;\n",
              "  --sklearn-color-unfitted-level-2: #ffe0b3;\n",
              "  --sklearn-color-unfitted-level-3: chocolate;\n",
              "  /* Definition of color scheme for fitted estimators */\n",
              "  --sklearn-color-fitted-level-0: #f0f8ff;\n",
              "  --sklearn-color-fitted-level-1: #d4ebff;\n",
              "  --sklearn-color-fitted-level-2: #b3dbfd;\n",
              "  --sklearn-color-fitted-level-3: cornflowerblue;\n",
              "\n",
              "  /* Specific color for light theme */\n",
              "  --sklearn-color-text-on-default-background: var(--sg-text-color, var(--theme-code-foreground, var(--jp-content-font-color1, black)));\n",
              "  --sklearn-color-background: var(--sg-background-color, var(--theme-background, var(--jp-layout-color0, white)));\n",
              "  --sklearn-color-border-box: var(--sg-text-color, var(--theme-code-foreground, var(--jp-content-font-color1, black)));\n",
              "  --sklearn-color-icon: #696969;\n",
              "\n",
              "  @media (prefers-color-scheme: dark) {\n",
              "    /* Redefinition of color scheme for dark theme */\n",
              "    --sklearn-color-text-on-default-background: var(--sg-text-color, var(--theme-code-foreground, var(--jp-content-font-color1, white)));\n",
              "    --sklearn-color-background: var(--sg-background-color, var(--theme-background, var(--jp-layout-color0, #111)));\n",
              "    --sklearn-color-border-box: var(--sg-text-color, var(--theme-code-foreground, var(--jp-content-font-color1, white)));\n",
              "    --sklearn-color-icon: #878787;\n",
              "  }\n",
              "}\n",
              "\n",
              "#sk-container-id-1 {\n",
              "  color: var(--sklearn-color-text);\n",
              "}\n",
              "\n",
              "#sk-container-id-1 pre {\n",
              "  padding: 0;\n",
              "}\n",
              "\n",
              "#sk-container-id-1 input.sk-hidden--visually {\n",
              "  border: 0;\n",
              "  clip: rect(1px 1px 1px 1px);\n",
              "  clip: rect(1px, 1px, 1px, 1px);\n",
              "  height: 1px;\n",
              "  margin: -1px;\n",
              "  overflow: hidden;\n",
              "  padding: 0;\n",
              "  position: absolute;\n",
              "  width: 1px;\n",
              "}\n",
              "\n",
              "#sk-container-id-1 div.sk-dashed-wrapped {\n",
              "  border: 1px dashed var(--sklearn-color-line);\n",
              "  margin: 0 0.4em 0.5em 0.4em;\n",
              "  box-sizing: border-box;\n",
              "  padding-bottom: 0.4em;\n",
              "  background-color: var(--sklearn-color-background);\n",
              "}\n",
              "\n",
              "#sk-container-id-1 div.sk-container {\n",
              "  /* jupyter's `normalize.less` sets `[hidden] { display: none; }`\n",
              "     but bootstrap.min.css set `[hidden] { display: none !important; }`\n",
              "     so we also need the `!important` here to be able to override the\n",
              "     default hidden behavior on the sphinx rendered scikit-learn.org.\n",
              "     See: https://github.com/scikit-learn/scikit-learn/issues/21755 */\n",
              "  display: inline-block !important;\n",
              "  position: relative;\n",
              "}\n",
              "\n",
              "#sk-container-id-1 div.sk-text-repr-fallback {\n",
              "  display: none;\n",
              "}\n",
              "\n",
              "div.sk-parallel-item,\n",
              "div.sk-serial,\n",
              "div.sk-item {\n",
              "  /* draw centered vertical line to link estimators */\n",
              "  background-image: linear-gradient(var(--sklearn-color-text-on-default-background), var(--sklearn-color-text-on-default-background));\n",
              "  background-size: 2px 100%;\n",
              "  background-repeat: no-repeat;\n",
              "  background-position: center center;\n",
              "}\n",
              "\n",
              "/* Parallel-specific style estimator block */\n",
              "\n",
              "#sk-container-id-1 div.sk-parallel-item::after {\n",
              "  content: \"\";\n",
              "  width: 100%;\n",
              "  border-bottom: 2px solid var(--sklearn-color-text-on-default-background);\n",
              "  flex-grow: 1;\n",
              "}\n",
              "\n",
              "#sk-container-id-1 div.sk-parallel {\n",
              "  display: flex;\n",
              "  align-items: stretch;\n",
              "  justify-content: center;\n",
              "  background-color: var(--sklearn-color-background);\n",
              "  position: relative;\n",
              "}\n",
              "\n",
              "#sk-container-id-1 div.sk-parallel-item {\n",
              "  display: flex;\n",
              "  flex-direction: column;\n",
              "}\n",
              "\n",
              "#sk-container-id-1 div.sk-parallel-item:first-child::after {\n",
              "  align-self: flex-end;\n",
              "  width: 50%;\n",
              "}\n",
              "\n",
              "#sk-container-id-1 div.sk-parallel-item:last-child::after {\n",
              "  align-self: flex-start;\n",
              "  width: 50%;\n",
              "}\n",
              "\n",
              "#sk-container-id-1 div.sk-parallel-item:only-child::after {\n",
              "  width: 0;\n",
              "}\n",
              "\n",
              "/* Serial-specific style estimator block */\n",
              "\n",
              "#sk-container-id-1 div.sk-serial {\n",
              "  display: flex;\n",
              "  flex-direction: column;\n",
              "  align-items: center;\n",
              "  background-color: var(--sklearn-color-background);\n",
              "  padding-right: 1em;\n",
              "  padding-left: 1em;\n",
              "}\n",
              "\n",
              "\n",
              "/* Toggleable style: style used for estimator/Pipeline/ColumnTransformer box that is\n",
              "clickable and can be expanded/collapsed.\n",
              "- Pipeline and ColumnTransformer use this feature and define the default style\n",
              "- Estimators will overwrite some part of the style using the `sk-estimator` class\n",
              "*/\n",
              "\n",
              "/* Pipeline and ColumnTransformer style (default) */\n",
              "\n",
              "#sk-container-id-1 div.sk-toggleable {\n",
              "  /* Default theme specific background. It is overwritten whether we have a\n",
              "  specific estimator or a Pipeline/ColumnTransformer */\n",
              "  background-color: var(--sklearn-color-background);\n",
              "}\n",
              "\n",
              "/* Toggleable label */\n",
              "#sk-container-id-1 label.sk-toggleable__label {\n",
              "  cursor: pointer;\n",
              "  display: flex;\n",
              "  width: 100%;\n",
              "  margin-bottom: 0;\n",
              "  padding: 0.5em;\n",
              "  box-sizing: border-box;\n",
              "  text-align: center;\n",
              "  align-items: start;\n",
              "  justify-content: space-between;\n",
              "  gap: 0.5em;\n",
              "}\n",
              "\n",
              "#sk-container-id-1 label.sk-toggleable__label .caption {\n",
              "  font-size: 0.6rem;\n",
              "  font-weight: lighter;\n",
              "  color: var(--sklearn-color-text-muted);\n",
              "}\n",
              "\n",
              "#sk-container-id-1 label.sk-toggleable__label-arrow:before {\n",
              "  /* Arrow on the left of the label */\n",
              "  content: \"▸\";\n",
              "  float: left;\n",
              "  margin-right: 0.25em;\n",
              "  color: var(--sklearn-color-icon);\n",
              "}\n",
              "\n",
              "#sk-container-id-1 label.sk-toggleable__label-arrow:hover:before {\n",
              "  color: var(--sklearn-color-text);\n",
              "}\n",
              "\n",
              "/* Toggleable content - dropdown */\n",
              "\n",
              "#sk-container-id-1 div.sk-toggleable__content {\n",
              "  max-height: 0;\n",
              "  max-width: 0;\n",
              "  overflow: hidden;\n",
              "  text-align: left;\n",
              "  /* unfitted */\n",
              "  background-color: var(--sklearn-color-unfitted-level-0);\n",
              "}\n",
              "\n",
              "#sk-container-id-1 div.sk-toggleable__content.fitted {\n",
              "  /* fitted */\n",
              "  background-color: var(--sklearn-color-fitted-level-0);\n",
              "}\n",
              "\n",
              "#sk-container-id-1 div.sk-toggleable__content pre {\n",
              "  margin: 0.2em;\n",
              "  border-radius: 0.25em;\n",
              "  color: var(--sklearn-color-text);\n",
              "  /* unfitted */\n",
              "  background-color: var(--sklearn-color-unfitted-level-0);\n",
              "}\n",
              "\n",
              "#sk-container-id-1 div.sk-toggleable__content.fitted pre {\n",
              "  /* unfitted */\n",
              "  background-color: var(--sklearn-color-fitted-level-0);\n",
              "}\n",
              "\n",
              "#sk-container-id-1 input.sk-toggleable__control:checked~div.sk-toggleable__content {\n",
              "  /* Expand drop-down */\n",
              "  max-height: 200px;\n",
              "  max-width: 100%;\n",
              "  overflow: auto;\n",
              "}\n",
              "\n",
              "#sk-container-id-1 input.sk-toggleable__control:checked~label.sk-toggleable__label-arrow:before {\n",
              "  content: \"▾\";\n",
              "}\n",
              "\n",
              "/* Pipeline/ColumnTransformer-specific style */\n",
              "\n",
              "#sk-container-id-1 div.sk-label input.sk-toggleable__control:checked~label.sk-toggleable__label {\n",
              "  color: var(--sklearn-color-text);\n",
              "  background-color: var(--sklearn-color-unfitted-level-2);\n",
              "}\n",
              "\n",
              "#sk-container-id-1 div.sk-label.fitted input.sk-toggleable__control:checked~label.sk-toggleable__label {\n",
              "  background-color: var(--sklearn-color-fitted-level-2);\n",
              "}\n",
              "\n",
              "/* Estimator-specific style */\n",
              "\n",
              "/* Colorize estimator box */\n",
              "#sk-container-id-1 div.sk-estimator input.sk-toggleable__control:checked~label.sk-toggleable__label {\n",
              "  /* unfitted */\n",
              "  background-color: var(--sklearn-color-unfitted-level-2);\n",
              "}\n",
              "\n",
              "#sk-container-id-1 div.sk-estimator.fitted input.sk-toggleable__control:checked~label.sk-toggleable__label {\n",
              "  /* fitted */\n",
              "  background-color: var(--sklearn-color-fitted-level-2);\n",
              "}\n",
              "\n",
              "#sk-container-id-1 div.sk-label label.sk-toggleable__label,\n",
              "#sk-container-id-1 div.sk-label label {\n",
              "  /* The background is the default theme color */\n",
              "  color: var(--sklearn-color-text-on-default-background);\n",
              "}\n",
              "\n",
              "/* On hover, darken the color of the background */\n",
              "#sk-container-id-1 div.sk-label:hover label.sk-toggleable__label {\n",
              "  color: var(--sklearn-color-text);\n",
              "  background-color: var(--sklearn-color-unfitted-level-2);\n",
              "}\n",
              "\n",
              "/* Label box, darken color on hover, fitted */\n",
              "#sk-container-id-1 div.sk-label.fitted:hover label.sk-toggleable__label.fitted {\n",
              "  color: var(--sklearn-color-text);\n",
              "  background-color: var(--sklearn-color-fitted-level-2);\n",
              "}\n",
              "\n",
              "/* Estimator label */\n",
              "\n",
              "#sk-container-id-1 div.sk-label label {\n",
              "  font-family: monospace;\n",
              "  font-weight: bold;\n",
              "  display: inline-block;\n",
              "  line-height: 1.2em;\n",
              "}\n",
              "\n",
              "#sk-container-id-1 div.sk-label-container {\n",
              "  text-align: center;\n",
              "}\n",
              "\n",
              "/* Estimator-specific */\n",
              "#sk-container-id-1 div.sk-estimator {\n",
              "  font-family: monospace;\n",
              "  border: 1px dotted var(--sklearn-color-border-box);\n",
              "  border-radius: 0.25em;\n",
              "  box-sizing: border-box;\n",
              "  margin-bottom: 0.5em;\n",
              "  /* unfitted */\n",
              "  background-color: var(--sklearn-color-unfitted-level-0);\n",
              "}\n",
              "\n",
              "#sk-container-id-1 div.sk-estimator.fitted {\n",
              "  /* fitted */\n",
              "  background-color: var(--sklearn-color-fitted-level-0);\n",
              "}\n",
              "\n",
              "/* on hover */\n",
              "#sk-container-id-1 div.sk-estimator:hover {\n",
              "  /* unfitted */\n",
              "  background-color: var(--sklearn-color-unfitted-level-2);\n",
              "}\n",
              "\n",
              "#sk-container-id-1 div.sk-estimator.fitted:hover {\n",
              "  /* fitted */\n",
              "  background-color: var(--sklearn-color-fitted-level-2);\n",
              "}\n",
              "\n",
              "/* Specification for estimator info (e.g. \"i\" and \"?\") */\n",
              "\n",
              "/* Common style for \"i\" and \"?\" */\n",
              "\n",
              ".sk-estimator-doc-link,\n",
              "a:link.sk-estimator-doc-link,\n",
              "a:visited.sk-estimator-doc-link {\n",
              "  float: right;\n",
              "  font-size: smaller;\n",
              "  line-height: 1em;\n",
              "  font-family: monospace;\n",
              "  background-color: var(--sklearn-color-background);\n",
              "  border-radius: 1em;\n",
              "  height: 1em;\n",
              "  width: 1em;\n",
              "  text-decoration: none !important;\n",
              "  margin-left: 0.5em;\n",
              "  text-align: center;\n",
              "  /* unfitted */\n",
              "  border: var(--sklearn-color-unfitted-level-1) 1pt solid;\n",
              "  color: var(--sklearn-color-unfitted-level-1);\n",
              "}\n",
              "\n",
              ".sk-estimator-doc-link.fitted,\n",
              "a:link.sk-estimator-doc-link.fitted,\n",
              "a:visited.sk-estimator-doc-link.fitted {\n",
              "  /* fitted */\n",
              "  border: var(--sklearn-color-fitted-level-1) 1pt solid;\n",
              "  color: var(--sklearn-color-fitted-level-1);\n",
              "}\n",
              "\n",
              "/* On hover */\n",
              "div.sk-estimator:hover .sk-estimator-doc-link:hover,\n",
              ".sk-estimator-doc-link:hover,\n",
              "div.sk-label-container:hover .sk-estimator-doc-link:hover,\n",
              ".sk-estimator-doc-link:hover {\n",
              "  /* unfitted */\n",
              "  background-color: var(--sklearn-color-unfitted-level-3);\n",
              "  color: var(--sklearn-color-background);\n",
              "  text-decoration: none;\n",
              "}\n",
              "\n",
              "div.sk-estimator.fitted:hover .sk-estimator-doc-link.fitted:hover,\n",
              ".sk-estimator-doc-link.fitted:hover,\n",
              "div.sk-label-container:hover .sk-estimator-doc-link.fitted:hover,\n",
              ".sk-estimator-doc-link.fitted:hover {\n",
              "  /* fitted */\n",
              "  background-color: var(--sklearn-color-fitted-level-3);\n",
              "  color: var(--sklearn-color-background);\n",
              "  text-decoration: none;\n",
              "}\n",
              "\n",
              "/* Span, style for the box shown on hovering the info icon */\n",
              ".sk-estimator-doc-link span {\n",
              "  display: none;\n",
              "  z-index: 9999;\n",
              "  position: relative;\n",
              "  font-weight: normal;\n",
              "  right: .2ex;\n",
              "  padding: .5ex;\n",
              "  margin: .5ex;\n",
              "  width: min-content;\n",
              "  min-width: 20ex;\n",
              "  max-width: 50ex;\n",
              "  color: var(--sklearn-color-text);\n",
              "  box-shadow: 2pt 2pt 4pt #999;\n",
              "  /* unfitted */\n",
              "  background: var(--sklearn-color-unfitted-level-0);\n",
              "  border: .5pt solid var(--sklearn-color-unfitted-level-3);\n",
              "}\n",
              "\n",
              ".sk-estimator-doc-link.fitted span {\n",
              "  /* fitted */\n",
              "  background: var(--sklearn-color-fitted-level-0);\n",
              "  border: var(--sklearn-color-fitted-level-3);\n",
              "}\n",
              "\n",
              ".sk-estimator-doc-link:hover span {\n",
              "  display: block;\n",
              "}\n",
              "\n",
              "/* \"?\"-specific style due to the `<a>` HTML tag */\n",
              "\n",
              "#sk-container-id-1 a.estimator_doc_link {\n",
              "  float: right;\n",
              "  font-size: 1rem;\n",
              "  line-height: 1em;\n",
              "  font-family: monospace;\n",
              "  background-color: var(--sklearn-color-background);\n",
              "  border-radius: 1rem;\n",
              "  height: 1rem;\n",
              "  width: 1rem;\n",
              "  text-decoration: none;\n",
              "  /* unfitted */\n",
              "  color: var(--sklearn-color-unfitted-level-1);\n",
              "  border: var(--sklearn-color-unfitted-level-1) 1pt solid;\n",
              "}\n",
              "\n",
              "#sk-container-id-1 a.estimator_doc_link.fitted {\n",
              "  /* fitted */\n",
              "  border: var(--sklearn-color-fitted-level-1) 1pt solid;\n",
              "  color: var(--sklearn-color-fitted-level-1);\n",
              "}\n",
              "\n",
              "/* On hover */\n",
              "#sk-container-id-1 a.estimator_doc_link:hover {\n",
              "  /* unfitted */\n",
              "  background-color: var(--sklearn-color-unfitted-level-3);\n",
              "  color: var(--sklearn-color-background);\n",
              "  text-decoration: none;\n",
              "}\n",
              "\n",
              "#sk-container-id-1 a.estimator_doc_link.fitted:hover {\n",
              "  /* fitted */\n",
              "  background-color: var(--sklearn-color-fitted-level-3);\n",
              "}\n",
              "</style><div id=\"sk-container-id-1\" class=\"sk-top-container\"><div class=\"sk-text-repr-fallback\"><pre>LinearRegression()</pre><b>In a Jupyter environment, please rerun this cell to show the HTML representation or trust the notebook. <br />On GitHub, the HTML representation is unable to render, please try loading this page with nbviewer.org.</b></div><div class=\"sk-container\" hidden><div class=\"sk-item\"><div class=\"sk-estimator fitted sk-toggleable\"><input class=\"sk-toggleable__control sk-hidden--visually\" id=\"sk-estimator-id-1\" type=\"checkbox\" checked><label for=\"sk-estimator-id-1\" class=\"sk-toggleable__label fitted sk-toggleable__label-arrow\"><div><div>LinearRegression</div></div><div><a class=\"sk-estimator-doc-link fitted\" rel=\"noreferrer\" target=\"_blank\" href=\"https://scikit-learn.org/1.6/modules/generated/sklearn.linear_model.LinearRegression.html\">?<span>Documentation for LinearRegression</span></a><span class=\"sk-estimator-doc-link fitted\">i<span>Fitted</span></span></div></label><div class=\"sk-toggleable__content fitted\"><pre>LinearRegression()</pre></div> </div></div></div></div>"
            ]
          },
          "metadata": {},
          "execution_count": 8
        }
      ],
      "source": [
        "model = LinearRegression()\n",
        "\n",
        "model.fit(X_train, y_train)"
      ]
    },
    {
      "cell_type": "markdown",
      "id": "994fd089",
      "metadata": {
        "id": "994fd089"
      },
      "source": [
        "### Interpretación de Coeficientes\n",
        "Si la lista de features es `[\"revenues\", \"ebit\", \"depreciation\", \"capex\", \"ncwc\", \"bv\"]` y tu `model.coef_` es algo como `[a, b, c, d, e, f]`, entonces:\n",
        "\n",
        "\\[ y \\approx \\beta_0 + a\\cdot revenues + b\\cdot ebit + c\\cdot depreciation + d\\cdot capex + e\\cdot ncwc + f\\cdot bv \\]\n",
        "\n",
        "Cada coeficiente indica cómo cambia `y` en promedio **por cada unidad** que se incrementa la variable (manteniendo las demás constantes)."
      ]
    },
    {
      "cell_type": "code",
      "source": [
        "coefficients = model.coef_\n",
        "\n",
        "feature_names = features\n",
        "\n",
        "for feature, coef in zip(feature_names, coefficients):\n",
        "    print(f\"{feature}: {coef}\")"
      ],
      "metadata": {
        "id": "s5mt0KQV2DOa",
        "outputId": "1f02eeb8-5b57-4203-e445-e0c776999b02",
        "colab": {
          "base_uri": "https://localhost:8080/"
        }
      },
      "id": "s5mt0KQV2DOa",
      "execution_count": 9,
      "outputs": [
        {
          "output_type": "stream",
          "name": "stdout",
          "text": [
            "revenues: 2788.077903851042\n",
            "ebit: 383751.0407590952\n",
            "depreciation: -14738.060227686947\n",
            "capex: -55283.66198883718\n",
            "ncwc: 20462.119116309826\n",
            "bv: 224724.8682067086\n"
          ]
        }
      ]
    },
    {
      "cell_type": "markdown",
      "id": "000bc2f3",
      "metadata": {
        "id": "000bc2f3"
      },
      "source": [
        "## Paso 6: Evaluación y Validación del Modelo\n",
        "Usaremos las siguientes métricas:\n",
        "- **MSE (Mean Squared Error)**\n",
        "- **MAE (Mean Absolute Error)**\n",
        "- **R² (Coeficiente de Determinación)**"
      ]
    },
    {
      "source": [
        "from sklearn.metrics import mean_absolute_error\n",
        "\n",
        "y_pred = model.predict(X_test)\n",
        "\n",
        "mse = mean_squared_error(y_test, y_pred)\n",
        "mae = mean_absolute_error(y_test, y_pred)\n",
        "r2 = r2_score(y_test, y_pred)\n",
        "\n",
        "print(f\"MSE: {mse}\")\n",
        "print(f\"MAE: {mae}\")\n",
        "print(f\"R²: {r2}\")"
      ],
      "cell_type": "code",
      "metadata": {
        "id": "dJiXw9Zp2bnd",
        "outputId": "9a7f10f1-6231-4b88-9cfd-71c9612c03c5",
        "colab": {
          "base_uri": "https://localhost:8080/"
        }
      },
      "id": "dJiXw9Zp2bnd",
      "execution_count": 11,
      "outputs": [
        {
          "output_type": "stream",
          "name": "stdout",
          "text": [
            "MSE: 2451454626.4658303\n",
            "MAE: 33951.34918496893\n",
            "R²: 0.750329747643131\n"
          ]
        }
      ]
    },
    {
      "cell_type": "markdown",
      "id": "229849b2",
      "metadata": {
        "id": "229849b2"
      },
      "source": [
        "### Preguntas de Reflexión (Evaluación)\n",
        "1. ¿Por qué comparamos las métricas en **Entrenamiento** vs **Prueba**?\n",
        "2. ¿Qué significa si el error en entrenamiento es **muy** distinto (mucho menor o mucho mayor) que en prueba?\n",
        "3. ¿Cómo interpretar un **R²** cercano a 1, cercano a 0 o incluso negativo?\n",
        "\n",
        "_Responde con tu razonamiento._"
      ]
    },
    {
      "cell_type": "markdown",
      "id": "e6b60a43",
      "metadata": {
        "id": "e6b60a43"
      },
      "source": [
        "### Pregunta de Reflexión (Residuos)\n",
        "Si observas un patrón claro en la gráfica de residuos (por ejemplo, forma de U), ¿qué podría indicar respecto a las **asunciones** de la regresión lineal?\n",
        "\n",
        "_Responde con tu razonamiento._"
      ]
    },
    {
      "cell_type": "markdown",
      "id": "f357cf0e",
      "metadata": {
        "id": "f357cf0e"
      },
      "source": [
        "## Paso 8: Interpretación y Conclusiones\n",
        "\n",
        "1. **Revisa** los coeficientes: ¿son consistentes con la lógica de negocio? (p.ej., si `ebit` aumenta, esperas que `y` aumente o disminuya?).\n",
        "2. **Observa** el nivel de error y R²: ¿el modelo es suficientemente bueno para su uso práctico?\n",
        "3. **Considera** la posibilidad de:\n",
        "   - Añadir más variables.\n",
        "   - Aplicar **regresiones polinómicas** (X², X³) si sospechas no linealidad.\n",
        "   - Usar **regularización** (Ridge, Lasso) si hay multicolinealidad o se requieren coeficientes más estables."
      ]
    },
    {
      "cell_type": "markdown",
      "id": "48d0593a",
      "metadata": {
        "id": "48d0593a"
      },
      "source": [
        "### Preguntas de Reflexión Final\n",
        "1. ¿Crees que la Regresión Lineal Simple/Múltiple **captura adecuadamente** las relaciones en tus datos?\n",
        "2. ¿Qué otras técnicas (ej. árboles de decisión, bosques aleatorios, etc.) considerarías para comparar resultados?\n",
        "3. ¿El dataset es suficientemente grande y variado para hacer conclusiones robustas?\n",
        "\n",
        "_Responde con tu razonamiento._"
      ]
    },
    {
      "cell_type": "code",
      "source": [
        "for feature, coef in zip(feature_names, coefficients):\n",
        "    print(f\"{feature}: {coef}\")\n",
        "    if feature == 'ebit':\n",
        "        if coef > 0:\n",
        "            print(\"Un aumento en ebit se asocia con un aumento en y, consistente con la lógica de negocio.\")\n",
        "        else:\n",
        "            print(\"Un aumento en ebit se asocia con una disminución en y, inconsistente con la lógica de negocio. Revisar.\")\n",
        "\n",
        "print(f\"MSE: {mse}\")\n",
        "print(f\"MAE: {mae}\")\n",
        "print(f\"R²: {r2}\")\n",
        "\n",
        "if r2 < 0.5:\n",
        "    print(\"El valor de R² es bajo, indicando que el modelo no explica bien la variabilidad de los datos. Considerar mejoras.\")\n",
        "    print(\"Posibles mejoras:\")\n",
        "    print(\"- Añadir más variables predictoras.\")\n",
        "    print(\"- Aplicar transformaciones a las variables (p.ej., logaritmo).\")\n",
        "    print(\"- Probar regresiones polinómicas para capturar no linealidades.\")\n",
        "    print(\"- Usar regularización (Ridge, Lasso) si hay multicolinealidad.\")\n",
        "elif r2 < 0.8:\n",
        "  print(\"El valor de R² es moderado. Se podrían considerar las mejoras mencionadas anteriormente.\")\n",
        "else:\n",
        "    print(\"El valor de R² es alto, lo cual indica que el modelo explica buena parte de la variabilidad de los datos.\")"
      ],
      "metadata": {
        "id": "MNMSChFSAftG",
        "outputId": "198bdd45-46ff-40c6-c72c-39e1608fead7",
        "colab": {
          "base_uri": "https://localhost:8080/"
        }
      },
      "id": "MNMSChFSAftG",
      "execution_count": 12,
      "outputs": [
        {
          "output_type": "stream",
          "name": "stdout",
          "text": [
            "revenues: 2788.077903851042\n",
            "ebit: 383751.0407590952\n",
            "Un aumento en ebit se asocia con un aumento en y, consistente con la lógica de negocio.\n",
            "depreciation: -14738.060227686947\n",
            "capex: -55283.66198883718\n",
            "ncwc: 20462.119116309826\n",
            "bv: 224724.8682067086\n",
            "MSE: 2451454626.4658303\n",
            "MAE: 33951.34918496893\n",
            "R²: 0.750329747643131\n",
            "El valor de R² es moderado. Se podrían considerar las mejoras mencionadas anteriormente.\n"
          ]
        }
      ]
    },
    {
      "cell_type": "markdown",
      "id": "2d97d703",
      "metadata": {
        "id": "2d97d703"
      },
      "source": [
        "## Resumen\n",
        "En este Notebook hemos:\n",
        "1. **Explorado** los datos (EDA) y detectado posibles outliers.\n",
        "2. **Limpieza** de datos y transformaciones opcionales.\n",
        "3. **Seleccionado** variables y dividido en train/test.\n",
        "4. **Entrenado** un modelo de Regresión Lineal.\n",
        "5. **Evaluado** con MSE, MAE, R² y analizado residuos.\n",
        "6. **Reflexionado** sobre los coeficientes y conclusiones.\n",
        "\n",
        "¡Has completado un **análisis de regresión lineal** de forma integral! Para afianzar, puedes:\n",
        "- Ajustar parámetros (aunque la regresión lineal simple en sklearn no tiene muchos).\n",
        "- Comparar con otros modelos.\n",
        "- Realizar validación cruzada en lugar de una simple división train/test.\n",
        "\n",
        "¡Éxitos en tu proyecto de análisis!"
      ]
    }
  ],
  "metadata": {
    "kernelspec": {
      "display_name": "Python 3",
      "language": "python",
      "name": "python3"
    },
    "language_info": {
      "name": "python",
      "version": "3.9"
    },
    "colab": {
      "provenance": []
    }
  },
  "nbformat": 4,
  "nbformat_minor": 5
}