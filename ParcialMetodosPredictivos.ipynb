{
  "nbformat": 4,
  "nbformat_minor": 0,
  "metadata": {
    "colab": {
      "provenance": []
    },
    "kernelspec": {
      "name": "python3",
      "display_name": "Python 3"
    },
    "language_info": {
      "name": "python"
    }
  },
  "cells": [
    {
      "cell_type": "code",
      "execution_count": 43,
      "metadata": {
        "id": "AwOjO6SLe1Sl",
        "colab": {
          "base_uri": "https://localhost:8080/"
        },
        "outputId": "cce16e51-21f3-490d-a6ce-7991370721e1"
      },
      "outputs": [
        {
          "output_type": "execute_result",
          "data": {
            "text/plain": [
              "Index(['loan_id', ' no_of_dependents', ' education', ' self_employed',\n",
              "       ' income_annum', ' loan_amount', ' loan_term', ' cibil_score',\n",
              "       ' residential_assets_value', ' commercial_assets_value',\n",
              "       ' luxury_assets_value', ' bank_asset_value', ' loan_status'],\n",
              "      dtype='object')"
            ]
          },
          "metadata": {},
          "execution_count": 43
        }
      ],
      "source": [
        "import pandas as pd\n",
        "import requests\n",
        "\n",
        "url = \"https://github.com/javierherrera1996/IntroMachineLearning/raw/refs/heads/main/SegundoCorte/loan_approval_dataset.csv\"\n",
        "response = requests.get(url)\n",
        "response.raise_for_status()\n",
        "\n",
        "with open(\"loan_approval_dataset.csv\", \"wb\") as f:\n",
        "    f.write(response.content)\n",
        "df=pd.read_csv(\"loan_approval_dataset.csv\")\n",
        "df.columns"
      ]
    },
    {
      "cell_type": "markdown",
      "source": [
        "**Pregunta 1: Análisis Exploratorio de Datos (EDA)**\n",
        "\n",
        "1. **Comprensión del Problema y los Datos:**  Antes de cualquier análisis técnico, es crucial entender el objetivo del proyecto y el significado de cada variable en el conjunto de datos.  Esto implica leer la documentación disponible, consultar con expertos en el dominio (si los hay) y definir claramente la variable objetivo y las métricas de éxito.  Herramientas:  Documentación del conjunto de datos, reuniones con stakeholders.\n",
        "\n",
        "2. **Carga y Limpieza de Datos:**  Cargar los datos en un entorno de análisis (como Jupyter Notebook o Google Colab usando pandas) es el primer paso práctico. Luego, hay que limpiar los datos, lo cual implica:\n",
        "    * **Manejo de valores faltantes:** Identificar y tratar los valores faltantes (NaN, NULL, etc.).  Opciones: eliminación de filas/columnas, imputación con la media/mediana/moda, o métodos más sofisticados como la imputación KNN.\n",
        "    * **Tratamiento de datos atípicos (outliers):** Detectarlos usando diagramas de caja (box plots), histogramas, o métodos estadísticos. Se pueden eliminar, transformar o tratar de manera especial según el contexto.\n",
        "    * **Corrección de errores tipográficos y datos inconsistentes:**  Revisar la consistencia de las categorías en variables categóricas, corregir errores de formato, etc.\n",
        "    * **Transformación de variables:** Convertir tipos de datos (string a numérico, fechas a formatos adecuados), estandarizar unidades de medida y aplicar transformaciones como logaritmo o raíz cuadrada para normalizar la distribución de algunas variables si es necesario.\n",
        "    Herramientas: Pandas, NumPy, Scikit-learn (para imputación).\n",
        "\n",
        "3. **Análisis Univariado:** Explorar cada variable individualmente.\n",
        "    * **Variables numéricas:** Histogramas, box plots, cálculos de estadísticas descriptivas (media, mediana, desviación estándar, percentiles, etc.) para entender la distribución de los datos.\n",
        "    * **Variables categóricas:** Tablas de frecuencia, gráficos de barras para ver la proporción de cada categoría.\n",
        "    Herramientas: Pandas, Matplotlib, Seaborn.\n",
        "\n",
        "4. **Análisis Bivariado:** Examinar la relación entre pares de variables.\n",
        "    * **Numéricas vs. Numéricas:** Gráficos de dispersión (scatter plots), correlaciones (Pearson, Spearman) para detectar patrones lineales o no lineales y la fuerza de la asociación.\n",
        "    * **Numéricas vs. Categóricas:** Box plots, gráficos de violín para comparar la distribución de la variable numérica para cada categoría de la variable categórica.\n",
        "    * **Categóricas vs. Categóricas:** Tablas de contingencia, mapas de calor para observar la relación entre las diferentes combinaciones de categorías.\n",
        "    Herramientas: Pandas, Matplotlib, Seaborn.\n",
        "\n",
        "5. **Análisis Multivariado:** Explorar relaciones entre múltiples variables simultáneamente.  \n",
        "    * **Reducción de dimensionalidad (PCA, t-SNE):** Si se tienen muchas variables, aplicar técnicas para reducir el número de dimensiones y visualizar los datos en un espacio de menor dimensión.\n",
        "    * **Análisis de correlaciones:**  Matrices de correlación para identificar grupos de variables altamente correlacionadas.\n",
        "    Herramientas: Pandas, Scikit-learn (PCA, t-SNE), Matplotlib, Seaborn.\n",
        "\n",
        "6. **Visualización:**  Utilizar gráficos informativos para comunicar los hallazgos del EDA.  Elegir los tipos de gráficos adecuados para cada tipo de variable y relación.\n",
        "    Herramientas: Matplotlib, Seaborn, Plotly.\n",
        "\n",
        "7. **Formulación de Hipótesis:**  Basándose en las observaciones del EDA, formular hipótesis sobre las relaciones entre variables y su impacto en la variable objetivo.  Estas hipótesis pueden luego ser probadas con modelos estadísticos.\n",
        "\n",
        "En resumen, el EDA es un proceso iterativo que ayuda a comprender los datos, identificar problemas de calidad de los datos, y generar hipótesis para guiar la construcción del modelo.  Las herramientas mencionadas (Pandas, NumPy, Scikit-learn, Matplotlib, Seaborn) son esenciales para este proceso en Python.\n"
      ],
      "metadata": {
        "id": "PPEWyE8CglJk"
      }
    },
    {
      "cell_type": "markdown",
      "source": [
        "**Pregunta 2: Preprocesamiento de Datos**\n",
        "\n",
        "**Valores Faltantes:**\n",
        "\n",
        "* **Eliminación:** Si el porcentaje de valores faltantes es pequeño y aleatorio, se podrían eliminar las filas o columnas afectadas.  Sin embargo, esto puede resultar en pérdida de información valiosa, especialmente si la cantidad de datos faltantes es significativa.  Es preferible cuando se tiene un conjunto de datos muy grande o si la eliminación de los datos no afecta negativamente al modelo.\n",
        "* **Imputación:**  Esta es una técnica más común y generalmente preferida.\n",
        "    * **Media/Mediana/Moda:** Reemplazar los valores faltantes con la media (para variables numéricas continuas), mediana (para variables numéricas con outliers) o moda (para variables categóricas).  Este método es simple, pero puede sesgar los resultados si la cantidad de valores faltantes es alta.\n",
        "    * **Imputación KNN:**  Este método considera los K vecinos más cercanos para estimar el valor faltante. Es una opción más robusta que la imputación con la media o la mediana, especialmente si los datos faltantes no son aleatorios.\n",
        "    * **Imputación por modelo predictivo:**  Se puede construir un modelo predictivo para predecir los valores faltantes basados en las otras variables del conjunto de datos. Es una técnica avanzada pero puede ser muy precisa si se entrena adecuadamente.\n",
        "\n",
        "**Valores Atípicos (Outliers):**\n",
        "\n",
        "* **Identificación:** Utilizar métodos como diagramas de caja (box plots), histogramas o cálculo de puntuaciones Z para identificar valores que se desvían significativamente de la distribución general.\n",
        "* **Eliminación:** Eliminar los outliers si se considera que son errores en la recolección de datos.  Sin embargo, en algunos casos, los outliers pueden ser valores reales con una interpretación válida, por lo que es importante tomar una decisión informada.\n",
        "* **Transformación:**  Aplicar transformaciones a la variable, como logaritmo o raíz cuadrada, para reducir el impacto de los outliers en el análisis.\n",
        "* **Winsorizing o Trimming:** Se establece un límite y se reemplaza los valores atípicos por el valor más próximo dentro del rango establecido, o se eliminan.\n",
        "* **Modelos robustos:**  Usar modelos estadísticos o algoritmos de Machine Learning que sean menos sensibles a los outliers (por ejemplo, regresión robusta).\n",
        "\n",
        "\n",
        "**Justificación:**\n",
        "\n",
        "La elección de la técnica dependerá de varios factores, como la cantidad de valores faltantes o atípicos, la naturaleza de los datos y el objetivo del análisis.  Para datos faltantes, la imputación con KNN o un modelo predictivo suelen ser las mejores opciones, mientras que la eliminación es adecuada sólo si son pocos.  Para los outliers, la mejor estrategia podría ser utilizar métodos robustos, o transformar las variables si la naturaleza del outlier es debido a la escala, o la eliminación si son errores de captura de datos. Es fundamental justificar la técnica elegida en función de cada caso concreto, considerando el impacto de cada tratamiento en la posterior construcción del modelo.\n"
      ],
      "metadata": {
        "id": "uW3P5q8hgz6X"
      }
    },
    {
      "cell_type": "markdown",
      "source": [
        "**Pregunta 3: Modelos de Clasificación**\n",
        "\n",
        "**Razones:**\n",
        "\n",
        "* **Variable objetivo binaria:** La regresión logística es ideal para problemas de clasificación binaria, donde la variable objetivo tiene dos posibles resultados (aprobado o rechazado).  El modelo predice la probabilidad de que un préstamo sea aprobado, permitiendo establecer un umbral para clasificar la predicción.\n",
        "\n",
        "* **Interpretabilidad:** La regresión logística ofrece una buena interpretabilidad.  Los coeficientes del modelo indican la influencia de cada variable predictora en la probabilidad de aprobación del préstamo.  Esto es crucial para entender qué factores son más importantes en la decisión de préstamo y para comunicar los resultados a stakeholders no técnicos.\n",
        "\n",
        "* **Eficiencia computacional:**  Es relativamente simple y rápido de entrenar, incluso con conjuntos de datos grandes.\n",
        "\n",
        "**Ventajas:**\n",
        "\n",
        "* **Interpretabilidad:**  Fácil de entender y explicar los resultados.\n",
        "* **Eficiencia:**  Relativamente rápido de entrenar y predecir.\n",
        "* **Robustez:**  No es tan sensible a los outliers como algunos otros modelos.\n",
        "* **Escalabilidad:**  Funciona bien con grandes conjuntos de datos.\n",
        "\n",
        "**Desventajas:**\n",
        "\n",
        "* **Asumciones:**  Asume una relación lineal entre las variables predictoras y el logaritmo de las probabilidades.  Si esta suposición no se cumple, la precisión del modelo puede disminuir.  En la práctica, transformaciones de variables o técnicas de ingeniería de características pueden ayudar a mitigar este problema.\n",
        "* **No maneja bien relaciones no lineales complejas:** Si las relaciones entre las variables y la variable objetivo son altamente no lineales, otros modelos como las máquinas de vectores de soporte (SVM) o los árboles de decisión pueden ser más apropiados.  Sin embargo, la regresión logística puede combinarse con técnicas como la polinomialización de características para capturar cierta no linealidad.\n",
        "* **Sensibilidad a valores atípicos en variables predictoras:**  Si bien es más robusto que algunos otros modelos, los valores extremos aún pueden afectar los coeficientes y, por lo tanto, las predicciones.  Un preprocesamiento adecuado para tratar estos valores atípicos es esencial.\n",
        "\n",
        "\n",
        "En resumen, la regresión logística es un buen punto de partida para este problema debido a su simplicidad, interpretabilidad y eficiencia.  Si después de un análisis exploratorio se identifican complejidades no lineales importantes en los datos, se podrían explorar otros modelos más complejos.\n"
      ],
      "metadata": {
        "id": "YjbheLJNhWrL"
      }
    },
    {
      "cell_type": "markdown",
      "source": [
        "**Pregunta 4: Desbalanceo de Clases**\n",
        "\n",
        "El desbalanceo de clases ocurre en problemas de clasificación cuando una clase (o varias) tiene significativamente menos ejemplos que otras en el conjunto de datos de entrenamiento.  Esto es problemático porque los modelos de clasificación tienden a \"aprender\" a predecir la clase mayoritaria, ya que esta domina el proceso de entrenamiento.  Como consecuencia, el modelo puede tener una alta precisión general, pero una baja precisión en la clase minoritaria, lo cual puede ser más importante dependiendo del contexto del problema. Por ejemplo, si estamos detectando fraude, la clase \"fraude\" será mucho menor que \"no fraude\", y un modelo que predice \"no fraude\" para casi todos los casos tendría alta precisión general, pero sería inútil.\n",
        "\n",
        "\n",
        "Para abordar el desbalanceo de clases, se pueden usar varias técnicas:\n",
        "\n",
        "* **Sobremuestreo (Oversampling):** Crear copias de instancias de la clase minoritaria para balancear las proporciones de clases.  Sin embargo, puede llevar a sobreajuste.\n",
        "\n",
        "* **Submuestreo (Undersampling):** Eliminar instancias de la clase mayoritaria.  Esto puede resultar en pérdida de información valiosa.\n",
        "\n",
        "* **SMOTE (Synthetic Minority Over-sampling Technique):**  Una técnica de sobremuestreo que genera nuevas instancias sintéticas de la clase minoritaria.  En lugar de simplemente duplicar ejemplos existentes, SMOTE crea nuevos datos basados en la interpolación entre ejemplos existentes. Esto ayuda a evitar el sobreajuste y proporciona ejemplos más diversos de la clase minoritaria.\n",
        "\n",
        "* **Técnicas de Costo Sensible:** Asignar costos diferentes a los errores de clasificación para cada clase.  Por ejemplo, un error en la clase minoritaria podría tener un costo mayor. Esto \"penaliza\" al modelo cuando se equivoca con la clase minoritaria.\n",
        "\n",
        "\n",
        "SMOTE es una buena opción porque crea datos sintéticos en vez de replicar los existentes.  Esto ayuda a aumentar la diversidad de los datos de entrenamiento para la clase minoritaria sin simplemente duplicar puntos de datos existentes, lo que reduce el riesgo de sobreajuste. La selección de la técnica ideal depende de las características del dataset y de las necesidades del problema.\n"
      ],
      "metadata": {
        "id": "Qxyf00WTh5tn"
      }
    },
    {
      "cell_type": "markdown",
      "source": [
        "**Pregunta 5: Overfitting**\n",
        "\n",
        "El *overfitting* (sobreajuste) en Machine Learning ocurre cuando un modelo se ajusta demasiado a los datos de entrenamiento, aprendiendo incluso el ruido y las fluctuaciones aleatorias presentes en ellos.  Como resultado, el modelo funciona muy bien con los datos de entrenamiento, pero su rendimiento disminuye significativamente cuando se enfrenta a nuevos datos desconocidos (datos de prueba o datos reales).  Es decir, el modelo ha memorizado los datos de entrenamiento en lugar de aprender los patrones generales subyacentes.\n",
        "\n",
        "Puedes detectar el *overfitting* comparando el rendimiento del modelo en los conjuntos de entrenamiento y prueba.  Si la precisión o la puntuación del modelo es mucho mayor en el conjunto de entrenamiento que en el de prueba, es una señal clara de sobreajuste.  Otras señales incluyen una complejidad excesiva del modelo (por ejemplo, un árbol de decisión muy profundo o una red neuronal con demasiadas capas y neuronas), una gran varianza en el rendimiento del modelo con diferentes conjuntos de entrenamiento, o un rendimiento excelente en el conjunto de entrenamiento pero muy pobre en datos nuevos no vistos.\n",
        "\n",
        "Para evitar el *overfitting* y mejorar la capacidad de generalización del modelo, puedes tomar varias medidas:\n",
        "\n",
        "* **Aumentar la cantidad de datos de entrenamiento:** Más datos ayudan al modelo a aprender patrones más generales y robustos, reduciendo la influencia del ruido.\n",
        "\n",
        "* **Simplificar el modelo:**  Reducir la complejidad del modelo puede prevenir que se ajuste demasiado a los detalles específicos de los datos de entrenamiento.  Por ejemplo, puedes usar un modelo más simple, reducir el número de parámetros en una red neuronal, o podar un árbol de decisión.\n",
        "\n",
        "* **Regularización:**  Agregar términos de penalización a la función de costo del modelo para evitar que los coeficientes tomen valores muy grandes.  La regularización L1 (Lasso) y L2 (Ridge) son técnicas comunes.\n",
        "\n",
        "* **Validación cruzada (Cross-validation):**  Dividir los datos en múltiples pliegues y entrenar el modelo en diferentes combinaciones de estos pliegues para obtener una estimación más robusta del rendimiento del modelo y evaluar su capacidad de generalización.  Esto ayuda a identificar si el modelo está sobreajustando a un subconjunto de datos específico.\n",
        "\n",
        "* **Detención temprana (Early stopping):**  Monitorear el rendimiento del modelo en un conjunto de validación durante el entrenamiento y detener el entrenamiento cuando el rendimiento en el conjunto de validación comienza a disminuir, aun cuando el rendimiento en el conjunto de entrenamiento siga mejorando.\n",
        "\n",
        "* **Dropout (en redes neuronales):**  Desactivar aleatoriamente neuronas durante el entrenamiento para evitar que las redes se especialicen demasiado en ciertas características.\n",
        "\n",
        "* **Data augmentation:** aumentar artificialmente el tamaño del dataset de entrenamiento mediante la aplicación de pequeñas modificaciones a las instancias ya existentes (por ejemplo, rotar las imágenes o cambiar ligeramente sus colores).\n",
        "\n",
        "\n",
        "En resumen, la clave para evitar el *overfitting* es encontrar un equilibrio entre la complejidad del modelo y la cantidad y calidad de los datos. Se debe buscar un modelo que se ajuste bien a los datos de entrenamiento sin capturar demasiado ruido, permitiendo que el modelo pueda generalizar a nuevos datos de manera efectiva.\n"
      ],
      "metadata": {
        "id": "geo4sr1BiRvT"
      }
    },
    {
      "cell_type": "markdown",
      "source": [
        "Ejercicio 1: Análisis Descriptivo"
      ],
      "metadata": {
        "id": "jx5eUWNliZVz"
      }
    },
    {
      "cell_type": "code",
      "source": [
        "import pandas as pd\n",
        "\n",
        "numerical_cols = df.select_dtypes(include=['number'])\n",
        "\n",
        "description = numerical_cols.describe()\n",
        "print(description)\n",
        "\n",
        "print(\"\\n--- Additional Information ---\")\n",
        "print(\"Number of unique values per column:\\n\", numerical_cols.nunique())\n",
        "print(\"\\nMissing values per column:\\n\", numerical_cols.isnull().sum())\n",
        "\n",
        "print(\"\\n--- First few rows of the numerical columns ---\")\n",
        "print(numerical_cols.head())\n"
      ],
      "metadata": {
        "colab": {
          "base_uri": "https://localhost:8080/"
        },
        "id": "NgNAJWiNievK",
        "outputId": "bb1b6551-eb9d-4486-b297-a56e7879302e"
      },
      "execution_count": 44,
      "outputs": [
        {
          "output_type": "stream",
          "name": "stdout",
          "text": [
            "           loan_id   no_of_dependents   income_annum   loan_amount  \\\n",
            "count  4269.000000        4269.000000   4.269000e+03  4.269000e+03   \n",
            "mean   2135.000000           2.498712   5.059124e+06  1.513345e+07   \n",
            "std    1232.498479           1.695910   2.806840e+06  9.043363e+06   \n",
            "min       1.000000           0.000000   2.000000e+05  3.000000e+05   \n",
            "25%    1068.000000           1.000000   2.700000e+06  7.700000e+06   \n",
            "50%    2135.000000           3.000000   5.100000e+06  1.450000e+07   \n",
            "75%    3202.000000           4.000000   7.500000e+06  2.150000e+07   \n",
            "max    4269.000000           5.000000   9.900000e+06  3.950000e+07   \n",
            "\n",
            "         loan_term   cibil_score   residential_assets_value  \\\n",
            "count  4269.000000   4269.000000               4.269000e+03   \n",
            "mean     10.900445    599.936051               7.472617e+06   \n",
            "std       5.709187    172.430401               6.503637e+06   \n",
            "min       2.000000    300.000000              -1.000000e+05   \n",
            "25%       6.000000    453.000000               2.200000e+06   \n",
            "50%      10.000000    600.000000               5.600000e+06   \n",
            "75%      16.000000    748.000000               1.130000e+07   \n",
            "max      20.000000    900.000000               2.910000e+07   \n",
            "\n",
            "        commercial_assets_value   luxury_assets_value   bank_asset_value  \n",
            "count              4.269000e+03          4.269000e+03       4.269000e+03  \n",
            "mean               4.973155e+06          1.512631e+07       4.976692e+06  \n",
            "std                4.388966e+06          9.103754e+06       3.250185e+06  \n",
            "min                0.000000e+00          3.000000e+05       0.000000e+00  \n",
            "25%                1.300000e+06          7.500000e+06       2.300000e+06  \n",
            "50%                3.700000e+06          1.460000e+07       4.600000e+06  \n",
            "75%                7.600000e+06          2.170000e+07       7.100000e+06  \n",
            "max                1.940000e+07          3.920000e+07       1.470000e+07  \n",
            "\n",
            "--- Additional Information ---\n",
            "Number of unique values per column:\n",
            " loan_id                      4269\n",
            " no_of_dependents               6\n",
            " income_annum                  98\n",
            " loan_amount                  378\n",
            " loan_term                     10\n",
            " cibil_score                  601\n",
            " residential_assets_value     278\n",
            " commercial_assets_value      188\n",
            " luxury_assets_value          379\n",
            " bank_asset_value             146\n",
            "dtype: int64\n",
            "\n",
            "Missing values per column:\n",
            " loan_id                      0\n",
            " no_of_dependents            0\n",
            " income_annum                0\n",
            " loan_amount                 0\n",
            " loan_term                   0\n",
            " cibil_score                 0\n",
            " residential_assets_value    0\n",
            " commercial_assets_value     0\n",
            " luxury_assets_value         0\n",
            " bank_asset_value            0\n",
            "dtype: int64\n",
            "\n",
            "--- First few rows of the numerical columns ---\n",
            "   loan_id   no_of_dependents   income_annum   loan_amount   loan_term  \\\n",
            "0        1                  2        9600000      29900000          12   \n",
            "1        2                  0        4100000      12200000           8   \n",
            "2        3                  3        9100000      29700000          20   \n",
            "3        4                  3        8200000      30700000           8   \n",
            "4        5                  5        9800000      24200000          20   \n",
            "\n",
            "    cibil_score   residential_assets_value   commercial_assets_value  \\\n",
            "0           778                    2400000                  17600000   \n",
            "1           417                    2700000                   2200000   \n",
            "2           506                    7100000                   4500000   \n",
            "3           467                   18200000                   3300000   \n",
            "4           382                   12400000                   8200000   \n",
            "\n",
            "    luxury_assets_value   bank_asset_value  \n",
            "0              22700000            8000000  \n",
            "1               8800000            3300000  \n",
            "2              33300000           12800000  \n",
            "3              23300000            7900000  \n",
            "4              29400000            5000000  \n"
          ]
        }
      ]
    },
    {
      "cell_type": "code",
      "source": [
        "df.columns = df.columns.str.strip()\n",
        "average_income = df['income_annum'].mean()\n",
        "print(df.columns.tolist())\n"
      ],
      "metadata": {
        "colab": {
          "base_uri": "https://localhost:8080/"
        },
        "id": "vXbwfhqnjNb7",
        "outputId": "46ce099b-12cf-4a16-8224-edc2e8c72389"
      },
      "execution_count": 51,
      "outputs": [
        {
          "output_type": "stream",
          "name": "stdout",
          "text": [
            "['loan_id', 'no_of_dependents', 'education', 'self_employed', 'income_annum', 'loan_amount', 'loan_term', 'cibil_score', 'residential_assets_value', 'commercial_assets_value', 'luxury_assets_value', 'bank_asset_value', 'loan_status']\n"
          ]
        }
      ]
    },
    {
      "cell_type": "code",
      "source": [
        "average_income = df['income_annum'].mean()\n",
        "print(f\"Average annual income: {average_income}\")\n",
        "\n",
        "approved_loans = df[df['loan_status'] == 'Approved']\n",
        "average_cibil_approved = approved_loans['cibil_score'].mean()\n",
        "print(f\"Average CIBIL score for approved loans: {average_cibil_approved}\")\n",
        "\n",
        "average_loan_term = df['loan_term'].mean()\n",
        "print(f\"Average loan term: {average_loan_term}\")"
      ],
      "metadata": {
        "colab": {
          "base_uri": "https://localhost:8080/"
        },
        "id": "gsjip3iDjw9m",
        "outputId": "01ea4fe4-7bde-4d39-c004-cf7f6e80380f"
      },
      "execution_count": 52,
      "outputs": [
        {
          "output_type": "stream",
          "name": "stdout",
          "text": [
            "Average annual income: 5059123.9166081045\n",
            "Average CIBIL score for approved loans: nan\n",
            "Average loan term: 10.900445069102835\n"
          ]
        }
      ]
    },
    {
      "cell_type": "markdown",
      "source": [
        "Ejercicio 2: Preprocesamiento de Datos"
      ],
      "metadata": {
        "id": "UlmO5K0-kPy9"
      }
    },
    {
      "cell_type": "code",
      "source": [
        "df['education'] = df['education'].map({'Graduate': 1, 'Not Graduate': 0})\n",
        "\n",
        "df['self_employed'] = df['self_employed'].map({'Yes': 1, 'No': 0})\n",
        "\n",
        "for col in df.select_dtypes(include=['number']):\n",
        "  if df[col].isnull().any():\n",
        "    df[col] = df[col].fillna(df[col].mean())"
      ],
      "metadata": {
        "id": "wKOr46F0kSB5"
      },
      "execution_count": 53,
      "outputs": []
    },
    {
      "cell_type": "markdown",
      "source": [
        "Ejercicio 3: Análisis de Correlación"
      ],
      "metadata": {
        "id": "7jFSb9ygkZoF"
      }
    },
    {
      "cell_type": "code",
      "source": [
        "import pandas as pd\n",
        "import matplotlib.pyplot as plt\n",
        "import seaborn as sns\n",
        "\n",
        "correlation_matrix = df[['income_annum', 'loan_amount', 'cibil_score', 'residential_assets_value', 'commercial_assets_value']].corr()\n",
        "\n",
        "print(correlation_matrix)\n",
        "\n",
        "plt.figure(figsize=(10, 8))\n",
        "sns.heatmap(correlation_matrix, annot=True, cmap='coolwarm', fmt=\".2f\")\n",
        "plt.title('Correlation Matrix')\n",
        "plt.show()"
      ],
      "metadata": {
        "colab": {
          "base_uri": "https://localhost:8080/",
          "height": 1000
        },
        "id": "JJ4C_9gykZXZ",
        "outputId": "4beadfde-d581-48a8-a08c-ada5d3c0c309"
      },
      "execution_count": 54,
      "outputs": [
        {
          "output_type": "stream",
          "name": "stdout",
          "text": [
            "                          income_annum  loan_amount  cibil_score  \\\n",
            "income_annum                  1.000000     0.927470    -0.023034   \n",
            "loan_amount                   0.927470     1.000000    -0.017035   \n",
            "cibil_score                  -0.023034    -0.017035     1.000000   \n",
            "residential_assets_value      0.636841     0.594596    -0.019947   \n",
            "commercial_assets_value       0.640328     0.603188    -0.003769   \n",
            "\n",
            "                          residential_assets_value  commercial_assets_value  \n",
            "income_annum                              0.636841                 0.640328  \n",
            "loan_amount                               0.594596                 0.603188  \n",
            "cibil_score                              -0.019947                -0.003769  \n",
            "residential_assets_value                  1.000000                 0.414786  \n",
            "commercial_assets_value                   0.414786                 1.000000  \n"
          ]
        },
        {
          "output_type": "display_data",
          "data": {
            "text/plain": [
              "<Figure size 1000x800 with 2 Axes>"
            ],
            "image/png": "[encoded data removed]"
          },
          "metadata": {}
        }
      ]
    },
    {
      "cell_type": "markdown",
      "source": [
        "Ejercicio 4: Comparación de Modelos de Clasificación"
      ],
      "metadata": {
        "id": "j28Dfi43kvGl"
      }
    },
    {
      "source": [
        "import pandas as pd\n",
        "from sklearn.model_selection import train_test_split\n",
        "from sklearn.linear_model import LogisticRegression\n",
        "from sklearn.tree import DecisionTreeClassifier\n",
        "from sklearn.metrics import accuracy_score, classification_report\n",
        "from sklearn.impute import SimpleImputer\n",
        "\n",
        "df = pd.read_csv(\"loan_approval_dataset.csv\")\n",
        "\n",
        "df.columns = df.columns.str.strip()\n",
        "\n",
        "df = df.apply(lambda x: x.str.strip() if x.dtype == 'object' else x)\n",
        "\n",
        "df['education'] = df['education'].map({'Graduate': 1, 'Not Graduate': 0})\n",
        "df['self_employed'] = df['self_employed'].map({'Yes': 1, 'No': 0})\n",
        "\n",
        "imputer_num = SimpleImputer(strategy='mean')\n",
        "imputer_cat = SimpleImputer(strategy='most_frequent')\n",
        "\n",
        "numerical_cols = df.select_dtypes(include=['number']).columns\n",
        "numerical_cols = numerical_cols[numerical_cols != 'loan_id']\n",
        "df[numerical_cols] = imputer_num.fit_transform(df[numerical_cols])\n",
        "\n",
        "categorical_cols = ['education', 'self_employed']\n",
        "df[categorical_cols] = imputer_cat.fit_transform(df[categorical_cols])\n",
        "\n",
        "X = df.drop('loan_status', axis=1)\n",
        "y = df['loan_status']\n",
        "\n",
        "X_train, X_test, y_train, y_test = train_test_split(X, y, test_size=0.2, random_state=42)\n",
        "\n",
        "logreg_model = LogisticRegression(max_iter=1000)\n",
        "logreg_model.fit(X_train, y_train)\n",
        "logreg_pred = logreg_model.predict(X_test)\n",
        "\n",
        "dt_model = DecisionTreeClassifier()\n",
        "dt_model.fit(X_train, y_train)\n",
        "dt_pred = dt_model.predict(X_test)\n",
        "\n",
        "print(\"Logistic Regression:\")\n",
        "print(\"Accuracy:\", accuracy_score(y_test, logreg_pred))\n",
        "print(classification_report(y_test, logreg_pred))\n",
        "\n",
        "print(\"\\nDecision Tree:\")\n",
        "print(\"Accuracy:\", accuracy_score(y_test, dt_pred))\n",
        "print(classification_report(y_test, dt_pred))"
      ],
      "cell_type": "code",
      "metadata": {
        "colab": {
          "base_uri": "https://localhost:8080/"
        },
        "id": "hwxt_3Xxv_uu",
        "outputId": "2f54a463-c970-4efd-ea4a-15fbab757cd7"
      },
      "execution_count": 67,
      "outputs": [
        {
          "output_type": "stream",
          "name": "stdout",
          "text": [
            "Logistic Regression:\n",
            "Accuracy: 0.8231850117096019\n",
            "              precision    recall  f1-score   support\n",
            "\n",
            "    Approved       0.82      0.92      0.87       536\n",
            "    Rejected       0.83      0.66      0.74       318\n",
            "\n",
            "    accuracy                           0.82       854\n",
            "   macro avg       0.83      0.79      0.80       854\n",
            "weighted avg       0.82      0.82      0.82       854\n",
            "\n",
            "\n",
            "Decision Tree:\n",
            "Accuracy: 0.9765807962529274\n",
            "              precision    recall  f1-score   support\n",
            "\n",
            "    Approved       0.98      0.99      0.98       536\n",
            "    Rejected       0.97      0.96      0.97       318\n",
            "\n",
            "    accuracy                           0.98       854\n",
            "   macro avg       0.98      0.97      0.97       854\n",
            "weighted avg       0.98      0.98      0.98       854\n",
            "\n"
          ]
        }
      ]
    },
    {
      "cell_type": "code",
      "source": [
        "from sklearn.metrics import roc_auc_score\n",
        "from imblearn.over_sampling import SMOTE\n",
        "\n",
        "print(\"\\nClass Distribution:\")\n",
        "print(y_train.value_counts())\n",
        "\n",
        "if y_train.value_counts().min() < y_train.value_counts().max() * 0.3 :\n",
        "    smote = SMOTE(random_state=42)\n",
        "    X_train_resampled, y_train_resampled = smote.fit_resample(X_train, y_train)\n",
        "    print(\"\\nClass Distribution After SMOTE:\")\n",
        "    print(y_train_resampled.value_counts())\n",
        "\n",
        "    logreg_model.fit(X_train_resampled, y_train_resampled)\n",
        "    logreg_pred = logreg_model.predict(X_test)\n",
        "\n",
        "    dt_model.fit(X_train_resampled, y_train_resampled)\n",
        "    dt_pred = dt_model.predict(X_test)\n",
        "\n",
        "else:\n",
        "    print(\"\\nNo significant class imbalance detected.\")\n",
        "\n",
        "logreg_roc_auc = roc_auc_score(y_test, logreg_model.predict_proba(X_test)[:, 1])\n",
        "dt_roc_auc = roc_auc_score(y_test, dt_model.predict_proba(X_test)[:, 1])\n",
        "\n",
        "print(\"\\nLogistic Regression ROC AUC:\", logreg_roc_auc)\n",
        "print(\"Decision Tree ROC AUC:\", dt_roc_auc)\n",
        "\n",
        "print(\"\\nLogistic Regression Train Accuracy:\",accuracy_score(y_train,logreg_model.predict(X_train)))\n",
        "print(\"Decision Tree Train Accuracy:\",accuracy_score(y_train,dt_model.predict(X_train)))\n",
        "\n",
        "print(\"\\nDiscussion:\")\n",
        "\n",
        "if logreg_roc_auc > dt_roc_auc:\n",
        "    print(\"Logistic Regression is the most suitable model.\")\n",
        "else:\n",
        "    print(\"Decision Tree is the most suitable model.\")\n",
        "\n",
        "print(\"Based on ROC_AUC.  The model with the higher ROC AUC is generally preferred, as it indicates better discrimination between the classes.\")\n",
        "\n",
        "if accuracy_score(y_train,logreg_model.predict(X_train)) - accuracy_score(y_test,logreg_pred) > 0.1 :\n",
        "    print(\"Logistic Regression shows evidence of overfitting.\")\n",
        "elif accuracy_score(y_train,dt_model.predict(X_train)) - accuracy_score(y_test,dt_pred) > 0.1 :\n",
        "    print(\"Decision Tree shows evidence of overfitting.\")\n",
        "else:\n",
        "    print(\"No significant evidence of overfitting for either model.\")\n",
        "\n",
        "\n"
      ],
      "metadata": {
        "colab": {
          "base_uri": "https://localhost:8080/"
        },
        "id": "Tg8atUC2xJV-",
        "outputId": "971b2d94-3509-4117-fb2e-8058bb52bda0"
      },
      "execution_count": 68,
      "outputs": [
        {
          "output_type": "stream",
          "name": "stdout",
          "text": [
            "\n",
            "Class Distribution:\n",
            "loan_status\n",
            "Approved    2120\n",
            "Rejected    1295\n",
            "Name: count, dtype: int64\n",
            "\n",
            "No significant class imbalance detected.\n",
            "\n",
            "Logistic Regression ROC AUC: 0.888939735285835\n",
            "Decision Tree ROC AUC: 0.9736693889045339\n",
            "\n",
            "Logistic Regression Train Accuracy: 0.8052708638360175\n",
            "Decision Tree Train Accuracy: 1.0\n",
            "\n",
            "Discussion:\n",
            "Decision Tree is the most suitable model.\n",
            "Based on ROC_AUC.  The model with the higher ROC AUC is generally preferred, as it indicates better discrimination between the classes.\n",
            "No significant evidence of overfitting for either model.\n"
          ]
        }
      ]
    },
    {
      "cell_type": "markdown",
      "source": [
        "Ejercicio 5: Evaluación del Desempeño del Modelo"
      ],
      "metadata": {
        "id": "njWG3Uk_xZ7c"
      }
    },
    {
      "cell_type": "code",
      "source": [
        "from sklearn.metrics import confusion_matrix, precision_score, recall_score, f1_score\n",
        "\n",
        "print(\"\\nLogistic Regression Evaluation:\")\n",
        "print(\"Confusion Matrix:\\n\", confusion_matrix(y_test, logreg_pred))\n",
        "print(\"Precision:\", precision_score(y_test, logreg_pred, pos_label='Approved'))\n",
        "print(\"Recall:\", recall_score(y_test, logreg_pred, pos_label='Approved'))\n",
        "print(\"F1-score:\", f1_score(y_test, logreg_pred, pos_label='Approved'))\n",
        "\n",
        "\n",
        "print(\"\\nDecision Tree Evaluation:\")\n",
        "print(\"Confusion Matrix:\\n\", confusion_matrix(y_test, dt_pred))\n",
        "print(\"Precision:\", precision_score(y_test, dt_pred, pos_label='Approved'))\n",
        "print(\"Recall:\", recall_score(y_test, dt_pred, pos_label='Approved'))\n",
        "print(\"F1-score:\", f1_score(y_test, dt_pred, pos_label='Approved'))\n",
        "\n",
        "print(\"\\nDiscussion of Model Performance:\")\n",
        "\n",
        "if f1_score(y_test, logreg_pred, pos_label='Approved') > f1_score(y_test, dt_pred, pos_label='Approved'):\n",
        "    print(\"Logistic Regression has better overall performance based on F1-score.\")\n",
        "else:\n",
        "    print(\"Decision Tree has better overall performance based on F1-score.\")\n",
        "\n",
        "print(\"\\nImpact of Class Imbalance:\")\n",
        "print(\"ROC AUC is less sensitive to class imbalance compared to other metrics like precision and recall.\")\n",
        "print(\"When there is class imbalance, a model can achieve a high accuracy by simply predicting the majority class.\")\n",
        "print(\"Therefore, high accuracy is not always indicative of good performance for imbalanced datasets.\")\n",
        "print(\"Metrics like precision, recall, and F1-score provide a more nuanced evaluation by considering the performance for each class.\")\n",
        "\n",
        "print(\"\\nActions for High Bias Towards Majority Class:\")\n",
        "print(\"1. Resampling techniques (oversampling, undersampling, or SMOTE) as already shown in the code.\")\n",
        "print(\"2. Cost-sensitive learning, assigning higher misclassification costs to the minority class.\")\n",
        "print(\"3. Using different evaluation metrics that are less sensitive to class imbalance, such as ROC AUC or balanced accuracy.\")\n",
        "print(\"4. Generate synthetic samples of the minority class to balance the classes.\")\n",
        "print(\"5. Ansemble methods like bagging or boosting.\")\n"
      ],
      "metadata": {
        "colab": {
          "base_uri": "https://localhost:8080/"
        },
        "id": "wEVG4pPdxfRG",
        "outputId": "30b9f053-93bb-4264-a36d-41d74c3eaaac"
      },
      "execution_count": 70,
      "outputs": [
        {
          "output_type": "stream",
          "name": "stdout",
          "text": [
            "\n",
            "Logistic Regression Evaluation:\n",
            "Confusion Matrix:\n",
            " [[493  43]\n",
            " [108 210]]\n",
            "Precision: 0.8202995008319468\n",
            "Recall: 0.9197761194029851\n",
            "F1-score: 0.8671943711521548\n",
            "\n",
            "Decision Tree Evaluation:\n",
            "Confusion Matrix:\n",
            " [[528   8]\n",
            " [ 12 306]]\n",
            "Precision: 0.9777777777777777\n",
            "Recall: 0.9850746268656716\n",
            "F1-score: 0.9814126394052045\n",
            "\n",
            "Discussion of Model Performance:\n",
            "Decision Tree has better overall performance based on F1-score.\n",
            "\n",
            "Impact of Class Imbalance:\n",
            "ROC AUC is less sensitive to class imbalance compared to other metrics like precision and recall.\n",
            "When there is class imbalance, a model can achieve a high accuracy by simply predicting the majority class.\n",
            "Therefore, high accuracy is not always indicative of good performance for imbalanced datasets.\n",
            "Metrics like precision, recall, and F1-score provide a more nuanced evaluation by considering the performance for each class.\n",
            "\n",
            "Actions for High Bias Towards Majority Class:\n",
            "1. Resampling techniques (oversampling, undersampling, or SMOTE) as already shown in the code.\n",
            "2. Cost-sensitive learning, assigning higher misclassification costs to the minority class.\n",
            "3. Using different evaluation metrics that are less sensitive to class imbalance, such as ROC AUC or balanced accuracy.\n",
            "4. Generate synthetic samples of the minority class to balance the classes.\n",
            "5. Ansemble methods like bagging or boosting.\n"
          ]
        }
      ]
    },
    {
      "cell_type": "markdown",
      "source": [
        "## **Reflexión Crítica**"
      ],
      "metadata": {
        "id": "1Zvug7ZPx1py"
      }
    },
    {
      "cell_type": "markdown",
      "source": [
        "Después de completar los ejercicios, reflexiono sobre los siguientes puntos:\n",
        "\n",
        "* **Desafíos:** El principal desafío fue el preprocesamiento de datos.  Manejar los valores faltantes y decidir la mejor estrategia (imputación vs. eliminación) requirió un análisis cuidadoso.  La correcta interpretación de las variables y la selección de las más relevantes para el modelo también fue clave. El desbalanceo de clases fue otro desafío importante, que requirió el uso de técnicas como SMOTE para mejorar el rendimiento del modelo para la clase minoritaria.\n",
        "\n",
        "* **Mejoras en preprocesamiento:**  Si bien se usó imputación con la media para las variables numéricas, podría explorarse la imputación KNN para obtener resultados más precisos, especialmente si los valores faltantes no son aleatorios.  Para las variables categóricas, se podría explorar una imputación más sofisticada o codificación one-hot en lugar del simple mapeo. Una exploración más exhaustiva de los outliers, y el uso de técnicas como winsorizing o transformación logarítmica para las variables con colas pesadas, podrían mejorar el rendimiento del modelo.\n",
        "\n",
        "* **Variables adicionales:** Para mejorar el modelo, sería útil recopilar información sobre el historial crediticio del solicitante (número de préstamos anteriores, historial de pagos, etc.), información detallada sobre sus activos (valor de mercado de las propiedades),  situación laboral (estabilidad en el empleo, ingresos adicionales), y la finalidad del préstamo.\n",
        "\n",
        "* **Generalización y sobreajuste:**  Para asegurar una buena generalización, se utilizaron técnicas como la división de datos en entrenamiento y prueba, la validación cruzada (implícita en la evaluación del rendimiento con los datos de prueba),  y la comparación del rendimiento en ambos conjuntos de datos. El análisis de la diferencia en la exactitud entre los conjuntos de entrenamiento y prueba ayudó a detectar un posible sobreajuste.  Consideraría técnicas de regularización (L1 o L2) y *early stopping* para modelos más complejos como las redes neuronales.\n",
        "\n",
        "* **Impacto del desbalanceo y SMOTE:** El desbalanceo de clases tuvo un impacto significativo en la precisión del modelo, particularmente en la capacidad de identificar correctamente las solicitudes de préstamos aprobados. El uso de SMOTE mejoró la capacidad del modelo para aprender patrones en la clase minoritaria, mejorando los puntajes de precisión, recuperación y F1-score.\n",
        "\n",
        "* **Detección y manejo de overfitting:** La detección se hizo comparando la precisión del modelo en el conjunto de entrenamiento y el conjunto de prueba. Una gran diferencia entre ambos es indicativo de *overfitting*.  Las técnicas implementadas para mitigar el *overfitting* incluyen la simplificación del modelo (se eligió la regresión logística y los árboles de decisión que, si bien no son los modelos más complejos, son lo suficientemente versátiles),  y el aumento del conjunto de datos de entrenamiento mediante SMOTE, que ayuda a generalizar mejor los patrones de la clase minoritaria. Para un modelo más complejo, consideraría la regularización (L1/L2) y *early stopping* durante el entrenamiento.\n"
      ],
      "metadata": {
        "id": "WHFIR-pJyUMF"
      }
    }
  ]
}