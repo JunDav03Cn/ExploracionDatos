{
  "nbformat": 4,
  "nbformat_minor": 0,
  "metadata": {
    "colab": {
      "provenance": []
    },
    "kernelspec": {
      "name": "python3",
      "display_name": "Python 3"
    },
    "language_info": {
      "name": "python"
    }
  },
  "cells": [
    {
      "cell_type": "markdown",
      "source": [
        "Taller Aplicado de Pivot Tables, Tablas de Contingencia y Melts"
      ],
      "metadata": {
        "id": "c4zeZQFnr2oV"
      }
    },
    {
      "cell_type": "code",
      "execution_count": 1,
      "metadata": {
        "colab": {
          "base_uri": "https://localhost:8080/"
        },
        "id": "LWCmQwhkpA0P",
        "outputId": "17f24642-3895-43d6-b567-1068fa5dfd91"
      },
      "outputs": [
        {
          "metadata": {
            "tags": null
          },
          "name": "stdout",
          "output_type": "stream",
          "text": [
            "--2024-10-03 21:22:07--  https://github.com/javierherrera1996/lecture_analytics/raw/refs/heads/main/time_series.zip\n",
            "Resolving github.com (github.com)... 140.82.112.4\n",
            "Connecting to github.com (github.com)|140.82.112.4|:443... connected.\n",
            "HTTP request sent, awaiting response... 302 Found\n",
            "Location: https://raw.githubusercontent.com/javierherrera1996/lecture_analytics/refs/heads/main/time_series.zip [following]\n",
            "--2024-10-03 21:22:07--  https://raw.githubusercontent.com/javierherrera1996/lecture_analytics/refs/heads/main/time_series.zip\n",
            "Resolving raw.githubusercontent.com (raw.githubusercontent.com)... 185.199.108.133, 185.199.109.133, 185.199.110.133, ...\n",
            "Connecting to raw.githubusercontent.com (raw.githubusercontent.com)|185.199.108.133|:443... connected.\n",
            "HTTP request sent, awaiting response... 200 OK\n",
            "Length: 15602616 (15M) [application/zip]\n",
            "Saving to: ‘time_series.zip.1’\n",
            "\n",
            "\rtime_series.zip.1     0%[                    ]       0  --.-KB/s               \rtime_series.zip.1   100%[===================>]  14.88M  --.-KB/s    in 0.07s   \n",
            "\n",
            "2024-10-03 21:22:07 (204 MB/s) - ‘time_series.zip.1’ saved [15602616/15602616]\n",
            "\n",
            "Archive:  time_series.zip\n",
            "replace time_series/fundamentals.csv? [y]es, [n]o, [A]ll, [N]one, [r]ename: "
          ]
        }
      ],
      "source": [
        "!wget https://github.com/javierherrera1996/lecture_analytics/raw/refs/heads/main/time_series.zip\n",
        "!unzip time_series.zip\n",
        "!cp -r time_series/* ./"
      ]
    },
    {
      "cell_type": "markdown",
      "source": [
        "Contexto del Taller\n",
        "Tienes datos históricos de precios y volumen de transacciones de acciones de una empresa (AAPL). El objetivo es utilizar herramientas como pivot tables, tablas de contingencia y melts en Python para realizar un análisis exploratorio que pueda influir en decisiones de inversión o identificar tendencias.\n",
        "\n",
        "Preguntas de Pivot Tables (Enfocadas a Negocio)\n",
        "Calcula el volumen promedio de transacciones por mes para la acción AAPL.\n",
        "\n",
        "Contexto de negocio: El volumen mensual te ayuda a entender la liquidez de la acción y detectar patrones de alta actividad.\n"
      ],
      "metadata": {
        "id": "wSqt9pHNr6NB"
      }
    },
    {
      "cell_type": "code",
      "source": [
        "import pandas as pd\n",
        "df = pd.read_csv('prices.csv')\n",
        "df.head()"
      ],
      "metadata": {
        "id": "JqXg1bPisAzP",
        "colab": {
          "base_uri": "https://localhost:8080/",
          "height": 206
        },
        "outputId": "7eb7b44a-91e0-48d0-f7e9-b65039370527"
      },
      "execution_count": 2,
      "outputs": [
        {
          "output_type": "execute_result",
          "data": {
            "text/plain": [
              "                  date symbol        open       close         low        high  \\\n",
              "0  2016-01-05 00:00:00   WLTW  123.430000  125.839996  122.309998  126.250000   \n",
              "1  2016-01-06 00:00:00   WLTW  125.239998  119.980003  119.940002  125.540001   \n",
              "2  2016-01-07 00:00:00   WLTW  116.379997  114.949997  114.930000  119.739998   \n",
              "3  2016-01-08 00:00:00   WLTW  115.480003  116.620003  113.500000  117.440002   \n",
              "4  2016-01-11 00:00:00   WLTW  117.010002  114.970001  114.089996  117.330002   \n",
              "\n",
              "      volume  \n",
              "0  2163600.0  \n",
              "1  2386400.0  \n",
              "2  2489500.0  \n",
              "3  2006300.0  \n",
              "4  1408600.0  "
            ],
            "text/html": [
              "\n",
              "  <div id=\"df-fbf8c758-5e23-4ddc-8f60-861021294b1e\" class=\"colab-df-container\">\n",
              "    <div>\n",
              "<style scoped>\n",
              "    .dataframe tbody tr th:only-of-type {\n",
              "        vertical-align: middle;\n",
              "    }\n",
              "\n",
              "    .dataframe tbody tr th {\n",
              "        vertical-align: top;\n",
              "    }\n",
              "\n",
              "    .dataframe thead th {\n",
              "        text-align: right;\n",
              "    }\n",
              "</style>\n",
              "<table border=\"1\" class=\"dataframe\">\n",
              "  <thead>\n",
              "    <tr style=\"text-align: right;\">\n",
              "      <th></th>\n",
              "      <th>date</th>\n",
              "      <th>symbol</th>\n",
              "      <th>open</th>\n",
              "      <th>close</th>\n",
              "      <th>low</th>\n",
              "      <th>high</th>\n",
              "      <th>volume</th>\n",
              "    </tr>\n",
              "  </thead>\n",
              "  <tbody>\n",
              "    <tr>\n",
              "      <th>0</th>\n",
              "      <td>2016-01-05 00:00:00</td>\n",
              "      <td>WLTW</td>\n",
              "      <td>123.430000</td>\n",
              "      <td>125.839996</td>\n",
              "      <td>122.309998</td>\n",
              "      <td>126.250000</td>\n",
              "      <td>2163600.0</td>\n",
              "    </tr>\n",
              "    <tr>\n",
              "      <th>1</th>\n",
              "      <td>2016-01-06 00:00:00</td>\n",
              "      <td>WLTW</td>\n",
              "      <td>125.239998</td>\n",
              "      <td>119.980003</td>\n",
              "      <td>119.940002</td>\n",
              "      <td>125.540001</td>\n",
              "      <td>2386400.0</td>\n",
              "    </tr>\n",
              "    <tr>\n",
              "      <th>2</th>\n",
              "      <td>2016-01-07 00:00:00</td>\n",
              "      <td>WLTW</td>\n",
              "      <td>116.379997</td>\n",
              "      <td>114.949997</td>\n",
              "      <td>114.930000</td>\n",
              "      <td>119.739998</td>\n",
              "      <td>2489500.0</td>\n",
              "    </tr>\n",
              "    <tr>\n",
              "      <th>3</th>\n",
              "      <td>2016-01-08 00:00:00</td>\n",
              "      <td>WLTW</td>\n",
              "      <td>115.480003</td>\n",
              "      <td>116.620003</td>\n",
              "      <td>113.500000</td>\n",
              "      <td>117.440002</td>\n",
              "      <td>2006300.0</td>\n",
              "    </tr>\n",
              "    <tr>\n",
              "      <th>4</th>\n",
              "      <td>2016-01-11 00:00:00</td>\n",
              "      <td>WLTW</td>\n",
              "      <td>117.010002</td>\n",
              "      <td>114.970001</td>\n",
              "      <td>114.089996</td>\n",
              "      <td>117.330002</td>\n",
              "      <td>1408600.0</td>\n",
              "    </tr>\n",
              "  </tbody>\n",
              "</table>\n",
              "</div>\n",
              "    <div class=\"colab-df-buttons\">\n",
              "\n",
              "  <div class=\"colab-df-container\">\n",
              "    <button class=\"colab-df-convert\" onclick=\"convertToInteractive('df-fbf8c758-5e23-4ddc-8f60-861021294b1e')\"\n",
              "            title=\"Convert this dataframe to an interactive table.\"\n",
              "            style=\"display:none;\">\n",
              "\n",
              "  <svg xmlns=\"http://www.w3.org/2000/svg\" height=\"24px\" viewBox=\"0 -960 960 960\">\n",
              "    <path d=\"M120-120v-720h720v720H120Zm60-500h600v-160H180v160Zm220 220h160v-160H400v160Zm0 220h160v-160H400v160ZM180-400h160v-160H180v160Zm440 0h160v-160H620v160ZM180-180h160v-160H180v160Zm440 0h160v-160H620v160Z\"/>\n",
              "  </svg>\n",
              "    </button>\n",
              "\n",
              "  <style>\n",
              "    .colab-df-container {\n",
              "      display:flex;\n",
              "      gap: 12px;\n",
              "    }\n",
              "\n",
              "    .colab-df-convert {\n",
              "      background-color: #E8F0FE;\n",
              "      border: none;\n",
              "      border-radius: 50%;\n",
              "      cursor: pointer;\n",
              "      display: none;\n",
              "      fill: #1967D2;\n",
              "      height: 32px;\n",
              "      padding: 0 0 0 0;\n",
              "      width: 32px;\n",
              "    }\n",
              "\n",
              "    .colab-df-convert:hover {\n",
              "      background-color: #E2EBFA;\n",
              "      box-shadow: 0px 1px 2px rgba(60, 64, 67, 0.3), 0px 1px 3px 1px rgba(60, 64, 67, 0.15);\n",
              "      fill: #174EA6;\n",
              "    }\n",
              "\n",
              "    .colab-df-buttons div {\n",
              "      margin-bottom: 4px;\n",
              "    }\n",
              "\n",
              "    [theme=dark] .colab-df-convert {\n",
              "      background-color: #3B4455;\n",
              "      fill: #D2E3FC;\n",
              "    }\n",
              "\n",
              "    [theme=dark] .colab-df-convert:hover {\n",
              "      background-color: #434B5C;\n",
              "      box-shadow: 0px 1px 3px 1px rgba(0, 0, 0, 0.15);\n",
              "      filter: drop-shadow(0px 1px 2px rgba(0, 0, 0, 0.3));\n",
              "      fill: #FFFFFF;\n",
              "    }\n",
              "  </style>\n",
              "\n",
              "    <script>\n",
              "      const buttonEl =\n",
              "        document.querySelector('#df-fbf8c758-5e23-4ddc-8f60-861021294b1e button.colab-df-convert');\n",
              "      buttonEl.style.display =\n",
              "        google.colab.kernel.accessAllowed ? 'block' : 'none';\n",
              "\n",
              "      async function convertToInteractive(key) {\n",
              "        const element = document.querySelector('#df-fbf8c758-5e23-4ddc-8f60-861021294b1e');\n",
              "        const dataTable =\n",
              "          await google.colab.kernel.invokeFunction('convertToInteractive',\n",
              "                                                    [key], {});\n",
              "        if (!dataTable) return;\n",
              "\n",
              "        const docLinkHtml = 'Like what you see? Visit the ' +\n",
              "          '<a target=\"_blank\" href=https://colab.research.google.com/notebooks/data_table.ipynb>data table notebook</a>'\n",
              "          + ' to learn more about interactive tables.';\n",
              "        element.innerHTML = '';\n",
              "        dataTable['output_type'] = 'display_data';\n",
              "        await google.colab.output.renderOutput(dataTable, element);\n",
              "        const docLink = document.createElement('div');\n",
              "        docLink.innerHTML = docLinkHtml;\n",
              "        element.appendChild(docLink);\n",
              "      }\n",
              "    </script>\n",
              "  </div>\n",
              "\n",
              "\n",
              "<div id=\"df-5c088a1e-2e03-4218-8ee2-d1fc0f30e4e7\">\n",
              "  <button class=\"colab-df-quickchart\" onclick=\"quickchart('df-5c088a1e-2e03-4218-8ee2-d1fc0f30e4e7')\"\n",
              "            title=\"Suggest charts\"\n",
              "            style=\"display:none;\">\n",
              "\n",
              "<svg xmlns=\"http://www.w3.org/2000/svg\" height=\"24px\"viewBox=\"0 0 24 24\"\n",
              "     width=\"24px\">\n",
              "    <g>\n",
              "        <path d=\"M19 3H5c-1.1 0-2 .9-2 2v14c0 1.1.9 2 2 2h14c1.1 0 2-.9 2-2V5c0-1.1-.9-2-2-2zM9 17H7v-7h2v7zm4 0h-2V7h2v10zm4 0h-2v-4h2v4z\"/>\n",
              "    </g>\n",
              "</svg>\n",
              "  </button>\n",
              "\n",
              "<style>\n",
              "  .colab-df-quickchart {\n",
              "      --bg-color: #E8F0FE;\n",
              "      --fill-color: #1967D2;\n",
              "      --hover-bg-color: #E2EBFA;\n",
              "      --hover-fill-color: #174EA6;\n",
              "      --disabled-fill-color: #AAA;\n",
              "      --disabled-bg-color: #DDD;\n",
              "  }\n",
              "\n",
              "  [theme=dark] .colab-df-quickchart {\n",
              "      --bg-color: #3B4455;\n",
              "      --fill-color: #D2E3FC;\n",
              "      --hover-bg-color: #434B5C;\n",
              "      --hover-fill-color: #FFFFFF;\n",
              "      --disabled-bg-color: #3B4455;\n",
              "      --disabled-fill-color: #666;\n",
              "  }\n",
              "\n",
              "  .colab-df-quickchart {\n",
              "    background-color: var(--bg-color);\n",
              "    border: none;\n",
              "    border-radius: 50%;\n",
              "    cursor: pointer;\n",
              "    display: none;\n",
              "    fill: var(--fill-color);\n",
              "    height: 32px;\n",
              "    padding: 0;\n",
              "    width: 32px;\n",
              "  }\n",
              "\n",
              "  .colab-df-quickchart:hover {\n",
              "    background-color: var(--hover-bg-color);\n",
              "    box-shadow: 0 1px 2px rgba(60, 64, 67, 0.3), 0 1px 3px 1px rgba(60, 64, 67, 0.15);\n",
              "    fill: var(--button-hover-fill-color);\n",
              "  }\n",
              "\n",
              "  .colab-df-quickchart-complete:disabled,\n",
              "  .colab-df-quickchart-complete:disabled:hover {\n",
              "    background-color: var(--disabled-bg-color);\n",
              "    fill: var(--disabled-fill-color);\n",
              "    box-shadow: none;\n",
              "  }\n",
              "\n",
              "  .colab-df-spinner {\n",
              "    border: 2px solid var(--fill-color);\n",
              "    border-color: transparent;\n",
              "    border-bottom-color: var(--fill-color);\n",
              "    animation:\n",
              "      spin 1s steps(1) infinite;\n",
              "  }\n",
              "\n",
              "  @keyframes spin {\n",
              "    0% {\n",
              "      border-color: transparent;\n",
              "      border-bottom-color: var(--fill-color);\n",
              "      border-left-color: var(--fill-color);\n",
              "    }\n",
              "    20% {\n",
              "      border-color: transparent;\n",
              "      border-left-color: var(--fill-color);\n",
              "      border-top-color: var(--fill-color);\n",
              "    }\n",
              "    30% {\n",
              "      border-color: transparent;\n",
              "      border-left-color: var(--fill-color);\n",
              "      border-top-color: var(--fill-color);\n",
              "      border-right-color: var(--fill-color);\n",
              "    }\n",
              "    40% {\n",
              "      border-color: transparent;\n",
              "      border-right-color: var(--fill-color);\n",
              "      border-top-color: var(--fill-color);\n",
              "    }\n",
              "    60% {\n",
              "      border-color: transparent;\n",
              "      border-right-color: var(--fill-color);\n",
              "    }\n",
              "    80% {\n",
              "      border-color: transparent;\n",
              "      border-right-color: var(--fill-color);\n",
              "      border-bottom-color: var(--fill-color);\n",
              "    }\n",
              "    90% {\n",
              "      border-color: transparent;\n",
              "      border-bottom-color: var(--fill-color);\n",
              "    }\n",
              "  }\n",
              "</style>\n",
              "\n",
              "  <script>\n",
              "    async function quickchart(key) {\n",
              "      const quickchartButtonEl =\n",
              "        document.querySelector('#' + key + ' button');\n",
              "      quickchartButtonEl.disabled = true;  // To prevent multiple clicks.\n",
              "      quickchartButtonEl.classList.add('colab-df-spinner');\n",
              "      try {\n",
              "        const charts = await google.colab.kernel.invokeFunction(\n",
              "            'suggestCharts', [key], {});\n",
              "      } catch (error) {\n",
              "        console.error('Error during call to suggestCharts:', error);\n",
              "      }\n",
              "      quickchartButtonEl.classList.remove('colab-df-spinner');\n",
              "      quickchartButtonEl.classList.add('colab-df-quickchart-complete');\n",
              "    }\n",
              "    (() => {\n",
              "      let quickchartButtonEl =\n",
              "        document.querySelector('#df-5c088a1e-2e03-4218-8ee2-d1fc0f30e4e7 button');\n",
              "      quickchartButtonEl.style.display =\n",
              "        google.colab.kernel.accessAllowed ? 'block' : 'none';\n",
              "    })();\n",
              "  </script>\n",
              "</div>\n",
              "\n",
              "    </div>\n",
              "  </div>\n"
            ],
            "application/vnd.google.colaboratory.intrinsic+json": {
              "type": "dataframe",
              "variable_name": "df"
            }
          },
          "metadata": {},
          "execution_count": 2
        }
      ]
    },
    {
      "cell_type": "code",
      "source": [
        "import pandas as pd\n",
        "\n",
        "df = pd.read_csv('prices.csv')\n",
        "\n",
        "print(\"Nombres de las columnas:\", df.columns)\n",
        "\n",
        "print(df.head())\n",
        "print(df.tail())\n",
        "\n",
        "df['date'] = pd.to_datetime(df['date'], errors='coerce')\n",
        "\n",
        "df = df.dropna(subset=['date'])\n",
        "\n",
        "df.loc[:, 'Month'] = df['date'].dt.to_period('M')\n",
        "\n",
        "pivot_table = df.pivot_table(values='volume', index='Month', aggfunc='mean')\n",
        "\n",
        "print(pivot_table)"
      ],
      "metadata": {
        "id": "s7sA9LBtUXiJ",
        "outputId": "1ed27396-244c-4e08-af9f-897dd581235e",
        "colab": {
          "base_uri": "https://localhost:8080/"
        }
      },
      "execution_count": 5,
      "outputs": [
        {
          "output_type": "stream",
          "name": "stdout",
          "text": [
            "Nombres de las columnas: Index(['date', 'symbol', 'open', 'close', 'low', 'high', 'volume'], dtype='object')\n",
            "                  date symbol        open       close         low        high  \\\n",
            "0  2016-01-05 00:00:00   WLTW  123.430000  125.839996  122.309998  126.250000   \n",
            "1  2016-01-06 00:00:00   WLTW  125.239998  119.980003  119.940002  125.540001   \n",
            "2  2016-01-07 00:00:00   WLTW  116.379997  114.949997  114.930000  119.739998   \n",
            "3  2016-01-08 00:00:00   WLTW  115.480003  116.620003  113.500000  117.440002   \n",
            "4  2016-01-11 00:00:00   WLTW  117.010002  114.970001  114.089996  117.330002   \n",
            "\n",
            "      volume  \n",
            "0  2163600.0  \n",
            "1  2386400.0  \n",
            "2  2489500.0  \n",
            "3  2006300.0  \n",
            "4  1408600.0  \n",
            "                       date symbol        open       close         low  \\\n",
            "851259           2016-12-30    ZBH  103.309998  103.199997  102.849998   \n",
            "851260           2016-12-30   ZION   43.070000   43.040001   42.689999   \n",
            "851261           2016-12-30    ZTS   53.639999   53.529999   53.270000   \n",
            "851262  2016-12-30 00:00:00    AIV   44.730000   45.450001   44.410000   \n",
            "851263  2016-12-30 00:00:00    FTV   54.200001   53.630001   53.389999   \n",
            "\n",
            "              high     volume  \n",
            "851259  103.930000   973800.0  \n",
            "851260   43.310001  1938100.0  \n",
            "851261   53.740002  1701200.0  \n",
            "851262   45.590000  1380900.0  \n",
            "851263   54.480000   705100.0  \n",
            "               volume\n",
            "Month                \n",
            "2010-01  2.435384e+06\n",
            "2010-02  2.366379e+06\n",
            "2010-03  1.896691e+06\n",
            "2010-04  2.411843e+06\n",
            "2010-05  3.047175e+06\n",
            "...               ...\n",
            "2016-08  1.187067e+06\n",
            "2016-09  1.170748e+06\n",
            "2016-10  1.166019e+06\n",
            "2016-11  1.361879e+06\n",
            "2016-12  1.219319e+06\n",
            "\n",
            "[84 rows x 1 columns]\n"
          ]
        },
        {
          "output_type": "stream",
          "name": "stderr",
          "text": [
            "<ipython-input-5-b9ebddbe95ca>:14: SettingWithCopyWarning: \n",
            "A value is trying to be set on a copy of a slice from a DataFrame.\n",
            "Try using .loc[row_indexer,col_indexer] = value instead\n",
            "\n",
            "See the caveats in the documentation: https://pandas.pydata.org/pandas-docs/stable/user_guide/indexing.html#returning-a-view-versus-a-copy\n",
            "  df.loc[:, 'Month'] = df['date'].dt.to_period('M')\n"
          ]
        }
      ]
    },
    {
      "cell_type": "markdown",
      "source": [
        "Calcula el precio promedio de apertura y cierre por día de la semana.\n",
        "\n",
        "Contexto de negocio: Esto puede ayudar a identificar si hay días de la semana en los que la acción tiende a abrir o cerrar con precios más altos."
      ],
      "metadata": {
        "id": "NObhi-Rqr-X9"
      }
    },
    {
      "cell_type": "code",
      "source": [
        "df['DayOfWeek'] = df['date'].dt.dayofweek\n",
        "\n",
        "pivot_table_day = df.pivot_table(values=['open', 'close'], index='DayOfWeek', aggfunc='mean')\n",
        "\n",
        "print(pivot_table_day)\n"
      ],
      "metadata": {
        "id": "oLK1kDuDsBUt",
        "outputId": "4e3c85bb-f489-4c8d-e91a-87c11c734238",
        "colab": {
          "base_uri": "https://localhost:8080/"
        }
      },
      "execution_count": 7,
      "outputs": [
        {
          "output_type": "stream",
          "name": "stdout",
          "text": [
            "               close       open\n",
            "DayOfWeek                      \n",
            "0          42.074497  42.023794\n",
            "1          42.563750  42.520841\n",
            "2          42.536023  42.547250\n",
            "3          42.497981  42.438863\n",
            "4          42.531558  42.542581\n"
          ]
        }
      ]
    },
    {
      "cell_type": "markdown",
      "source": [
        "Calcula el volumen total de transacciones por día de la semana y compara la actividad entre días.\n",
        "\n",
        "Contexto de negocio: Saber qué días tienen mayor actividad puede ayudarte a decidir cuándo realizar compras o ventas estratégicas."
      ],
      "metadata": {
        "id": "EuiXaaDHrBzj"
      }
    },
    {
      "cell_type": "code",
      "source": [
        "pivot_table_volume_day = df.pivot_table(values='volume', index='DayOfWeek', aggfunc='sum')\n",
        "\n",
        "print(pivot_table_volume_day)\n"
      ],
      "metadata": {
        "id": "nEIaJw5cq2DD",
        "outputId": "7dd55560-9c9a-4245-8067-7b6de0af1a70",
        "colab": {
          "base_uri": "https://localhost:8080/"
        }
      },
      "execution_count": 8,
      "outputs": [
        {
          "output_type": "stream",
          "name": "stdout",
          "text": [
            "                volume\n",
            "DayOfWeek             \n",
            "0          512724700.0\n",
            "1          630973200.0\n",
            "2          620850100.0\n",
            "3          609506900.0\n",
            "4          646359800.0\n"
          ]
        }
      ]
    },
    {
      "cell_type": "markdown",
      "source": [
        "Calcula los precios máximos y mínimos de apertura por mes.\n",
        "\n",
        "Contexto de negocio: Esto te permitirá evaluar la volatilidad mensual de la acción."
      ],
      "metadata": {
        "id": "F7JD1MvdryJA"
      }
    },
    {
      "cell_type": "code",
      "source": [
        "# prompt: Calcula los precios máximos y mínimos de apertura por mes utiliza symble table\n",
        "\n",
        "pivot_table_open_range = df.pivot_table(values='open', index='Month', aggfunc=['min', 'max'])\n",
        "\n",
        "print(pivot_table_open_range)\n"
      ],
      "metadata": {
        "id": "J3dkmfeqFtze",
        "outputId": "24026ec2-e2d2-402b-f8f8-933abba5e4f1",
        "colab": {
          "base_uri": "https://localhost:8080/"
        }
      },
      "execution_count": 9,
      "outputs": [
        {
          "output_type": "stream",
          "name": "stdout",
          "text": [
            "               min         max\n",
            "              open        open\n",
            "Month                         \n",
            "2010-01  15.380000   17.100000\n",
            "2010-02  15.380000   16.799999\n",
            "2010-03  16.760000   18.799999\n",
            "2010-04  18.620001   22.100000\n",
            "2010-05  18.410000   23.330000\n",
            "...            ...         ...\n",
            "2016-08  43.759998  124.180000\n",
            "2016-09  43.490002  129.169998\n",
            "2016-10  41.939999  132.449997\n",
            "2016-11  40.009998  126.519997\n",
            "2016-12  41.599998  126.449997\n",
            "\n",
            "[84 rows x 2 columns]\n"
          ]
        }
      ]
    },
    {
      "cell_type": "markdown",
      "source": [
        "Calcula el volumen promedio por mes y acción (suponiendo que tienes datos de múltiples acciones).\n",
        "\n",
        "Contexto de negocio: Esta información te ayuda a comparar la liquidez de diferentes acciones a lo largo del tiempo.\n"
      ],
      "metadata": {
        "id": "Kd2KertnFuEY"
      }
    },
    {
      "cell_type": "code",
      "source": [
        "if 'ticker' not in df.columns:\n",
        "  df['ticker'] = 'AAPL'\n",
        "\n",
        "pivot_table_volume_ticker = df.pivot_table(values='volume', index='Month', columns='ticker', aggfunc='mean')\n",
        "\n",
        "print(pivot_table_volume_ticker)\n"
      ],
      "metadata": {
        "id": "YoPUqDkiFwuM",
        "outputId": "4478688d-86e0-49f1-e79f-1935eaabea9e",
        "colab": {
          "base_uri": "https://localhost:8080/"
        }
      },
      "execution_count": 16,
      "outputs": [
        {
          "output_type": "stream",
          "name": "stdout",
          "text": [
            "ticker           AAPL\n",
            "Month                \n",
            "2010-01  2.435384e+06\n",
            "2010-02  2.366379e+06\n",
            "2010-03  1.896691e+06\n",
            "2010-04  2.411843e+06\n",
            "2010-05  3.047175e+06\n",
            "...               ...\n",
            "2016-08  1.187067e+06\n",
            "2016-09  1.170748e+06\n",
            "2016-10  1.166019e+06\n",
            "2016-11  1.361879e+06\n",
            "2016-12  1.219319e+06\n",
            "\n",
            "[84 rows x 1 columns]\n"
          ]
        }
      ]
    },
    {
      "cell_type": "markdown",
      "source": [
        "Calcula el precio de cierre promedio de la acción AAPL por mes, y agrega una columna con el total de transacciones en cada mes.\n",
        "\n",
        "Contexto de negocio: Esto te permite comparar el comportamiento de los precios con el volumen de transacciones, para entender si hay algún patrón de venta o compra en función del precio."
      ],
      "metadata": {
        "id": "Bi9wyS9lFw-S"
      }
    },
    {
      "cell_type": "code",
      "source": [
        "pivot_table_close_volume = df.pivot_table(values=['close', 'volume'], index='Month', aggfunc={'close': 'mean', 'volume': 'sum'})\n",
        "\n",
        "print(pivot_table_close_volume)\n"
      ],
      "metadata": {
        "id": "GhnLngACF0zq",
        "outputId": "bb412a6b-0dde-4f3f-b873-edd093cb654a",
        "colab": {
          "base_uri": "https://localhost:8080/"
        }
      },
      "execution_count": 11,
      "outputs": [
        {
          "output_type": "stream",
          "name": "stdout",
          "text": [
            "             close      volume\n",
            "Month                         \n",
            "2010-01  16.261579  46272300.0\n",
            "2010-02  16.145263  44961200.0\n",
            "2010-03  17.922609  43623900.0\n",
            "2010-04  20.528572  50648700.0\n",
            "2010-05  21.345500  60943500.0\n",
            "...            ...         ...\n",
            "2016-08  72.953188  81907600.0\n",
            "2016-09  74.463016  73757100.0\n",
            "2016-10  73.654603  73459200.0\n",
            "2016-11  72.846508  85798400.0\n",
            "2016-12  73.476984  76817100.0\n",
            "\n",
            "[84 rows x 2 columns]\n"
          ]
        }
      ]
    },
    {
      "cell_type": "markdown",
      "source": [
        "Preguntas de Tablas de Contingencia (Aplicadas a Negocios)\n",
        "Crea una tabla de contingencia para contar cuántos días el precio de apertura fue mayor o igual a $155 y cuántos días fue menor a $155.\n",
        "\n",
        "Contexto de negocio: Esto te ayuda a entender cómo se distribuyen los precios de apertura alrededor de un umbral crítico de $155."
      ],
      "metadata": {
        "id": "pUuT9YI3F1Dj"
      }
    },
    {
      "cell_type": "code",
      "source": [
        "import pandas as pd\n",
        "\n",
        "df['Precio_Apertura_Umbral'] = ['Mayor o igual a 155' if x >= 155 else 'Menor a 155' for x in df['open']]\n",
        "\n",
        "tabla_contingencia = pd.crosstab(index=df['Precio_Apertura_Umbral'], columns='Frecuencia')\n",
        "\n",
        "print(tabla_contingencia)\n"
      ],
      "metadata": {
        "id": "4dM_dP8TF6x8",
        "outputId": "8cd63f20-df14-4abf-970e-3d3bab65e644",
        "colab": {
          "base_uri": "https://localhost:8080/"
        }
      },
      "execution_count": 12,
      "outputs": [
        {
          "output_type": "stream",
          "name": "stdout",
          "text": [
            "col_0                   Frecuencia\n",
            "Precio_Apertura_Umbral            \n",
            "Menor a 155                   2139\n"
          ]
        }
      ]
    },
    {
      "cell_type": "markdown",
      "source": [
        "Genera una tabla de contingencia para contar cuántos días el volumen de transacciones fue mayor o igual a 75 millones y cuántos días fue menor.\n",
        "\n",
        "Contexto de negocio: Identificar días de alto volumen de transacciones es clave para entender cuándo hubo más interés en la compra/venta de la acción."
      ],
      "metadata": {
        "id": "3lLqxPVvF7IC"
      }
    },
    {
      "cell_type": "code",
      "source": [
        "df['Volumen_Umbral'] = ['Mayor o igual a 75M' if x >= 75000000 else 'Menor a 75M' for x in df['volume']]\n",
        "\n",
        "tabla_contingencia_volumen = pd.crosstab(index=df['Volumen_Umbral'], columns='Frecuencia')\n",
        "\n",
        "print(tabla_contingencia_volumen)\n"
      ],
      "metadata": {
        "id": "9asT7zPKF9sJ",
        "outputId": "79718b5d-6815-4e61-a6d1-09735db3b556",
        "colab": {
          "base_uri": "https://localhost:8080/"
        }
      },
      "execution_count": 13,
      "outputs": [
        {
          "output_type": "stream",
          "name": "stdout",
          "text": [
            "col_0           Frecuencia\n",
            "Volumen_Umbral            \n",
            "Menor a 75M           2139\n"
          ]
        }
      ]
    },
    {
      "cell_type": "markdown",
      "source": [
        "Crea una tabla de contingencia que muestre cuántos días el precio de cierre fue mayor o igual al precio de apertura, y cuántos días fue menor.\n",
        "\n",
        "Contexto de negocio: Saber en cuántos días la acción cerró por encima o por debajo del precio de apertura puede darte una idea general del rendimiento de la acción."
      ],
      "metadata": {
        "id": "Fl5U-mJIF9-E"
      }
    },
    {
      "cell_type": "code",
      "source": [
        "df['Cierre_vs_Apertura'] = ['Cierre Mayor o Igual' if x >= y else 'Cierre Menor' for x, y in zip(df['close'], df['open'])]\n",
        "\n",
        "tabla_contingencia_cierre_apertura = pd.crosstab(index=df['Cierre_vs_Apertura'], columns='Frecuencia')\n",
        "\n",
        "print(tabla_contingencia_cierre_apertura)\n"
      ],
      "metadata": {
        "id": "wWgJrNSlGAV5",
        "outputId": "ae54671a-2866-4fcb-e085-9cfdb90eb8be",
        "colab": {
          "base_uri": "https://localhost:8080/"
        }
      },
      "execution_count": 14,
      "outputs": [
        {
          "output_type": "stream",
          "name": "stdout",
          "text": [
            "col_0                 Frecuencia\n",
            "Cierre_vs_Apertura              \n",
            "Cierre Mayor o Igual        1179\n",
            "Cierre Menor                 960\n"
          ]
        }
      ]
    },
    {
      "cell_type": "markdown",
      "source": [
        "Añade márgenes (totales) a la tabla de contingencia anterior para conocer el total de días con subidas y bajadas de precio.\n",
        "\n",
        "Contexto de negocio: Analizar cuántos días en general la acción tuvo subidas o bajadas te da un panorama más amplio del comportamiento de la acción."
      ],
      "metadata": {
        "id": "uRLZ1pTRGAju"
      }
    },
    {
      "cell_type": "code",
      "source": [
        "tabla_contingencia_cierre_apertura_con_totales = pd.crosstab(index=df['Cierre_vs_Apertura'], columns='Frecuencia', margins=True)\n",
        "\n",
        "print(tabla_contingencia_cierre_apertura_con_totales)\n"
      ],
      "metadata": {
        "id": "2Qmh2spuGD9q",
        "outputId": "3825212c-4c2e-40ba-f597-a5ad7e6ece6b",
        "colab": {
          "base_uri": "https://localhost:8080/"
        }
      },
      "execution_count": 15,
      "outputs": [
        {
          "output_type": "stream",
          "name": "stdout",
          "text": [
            "col_0                 Frecuencia   All\n",
            "Cierre_vs_Apertura                    \n",
            "Cierre Mayor o Igual        1179  1179\n",
            "Cierre Menor                 960   960\n",
            "All                         2139  2139\n"
          ]
        }
      ]
    },
    {
      "cell_type": "markdown",
      "source": [
        "Crea una tabla de contingencia que compare cuántos días el precio de apertura fue mayor o igual a $155 y al mismo tiempo el precio de cierre ajustado fue mayor o menor a $155.\n",
        "\n",
        "Contexto de negocio: Esto permite identificar patrones donde el precio de apertura y el precio de cierre ajustado cruzan umbrales críticos, lo que es útil para ajustes en las estrategias de compra/venta."
      ],
      "metadata": {
        "id": "2U-4wGeQGEOE"
      }
    },
    {
      "cell_type": "code",
      "source": [
        "df['Apertura_Mayor_Igual_155'] = ['Sí' if x >= 155 else 'No' for x in df['open']]\n",
        "df['Cierre_Ajustado_Mayor_155'] = ['Sí' if x >= 155 else 'No' for x in df['close']]\n",
        "\n",
        "tabla_contingencia_apertura_cierre = pd.crosstab(index=df['Apertura_Mayor_Igual_155'], columns=df['Cierre_Ajustado_Mayor_155'])\n",
        "\n",
        "print(tabla_contingencia_apertura_cierre)\n"
      ],
      "metadata": {
        "id": "eIYEVTprGGv3",
        "outputId": "959cadad-becd-4ea7-b9b3-be81ace341bd",
        "colab": {
          "base_uri": "https://localhost:8080/"
        }
      },
      "execution_count": 17,
      "outputs": [
        {
          "output_type": "stream",
          "name": "stdout",
          "text": [
            "Cierre_Ajustado_Mayor_155    No\n",
            "Apertura_Mayor_Igual_155       \n",
            "No                         2139\n"
          ]
        }
      ]
    },
    {
      "cell_type": "markdown",
      "source": [
        "Preguntas de Melts (Aplicadas a Negocios)\n",
        "Transforma las columnas de precios (Open, Close, High, Low) en una única columna llamada Precio, manteniendo la fecha (Date) y el tipo de acción (Stock).\n",
        "\n",
        "Contexto de negocio: Este formato largo es ideal para realizar visualizaciones comparativas de diferentes precios de la acción a lo largo del tiempo."
      ],
      "metadata": {
        "id": "O74ohdTbGHAt"
      }
    },
    {
      "cell_type": "code",
      "source": [
        "df_melt = pd.melt(df, id_vars=['date', 'ticker'], value_vars=['open', 'close', 'high', 'low'], var_name='Tipo_Precio', value_name='Precio')\n",
        "\n",
        "print(df_melt)\n"
      ],
      "metadata": {
        "id": "gDbe8j-uGKlX",
        "outputId": "0d7072c6-6d79-43fa-d6f2-327accecc585",
        "colab": {
          "base_uri": "https://localhost:8080/"
        }
      },
      "execution_count": 18,
      "outputs": [
        {
          "output_type": "stream",
          "name": "stdout",
          "text": [
            "           date ticker Tipo_Precio      Precio\n",
            "0    2016-01-05   AAPL        open  123.430000\n",
            "1    2016-01-06   AAPL        open  125.239998\n",
            "2    2016-01-07   AAPL        open  116.379997\n",
            "3    2016-01-08   AAPL        open  115.480003\n",
            "4    2016-01-11   AAPL        open  117.010002\n",
            "...         ...    ...         ...         ...\n",
            "8551 2016-12-28   AAPL         low   53.470001\n",
            "8552 2016-12-29   AAPL         low   44.250000\n",
            "8553 2016-12-29   AAPL         low   53.590000\n",
            "8554 2016-12-30   AAPL         low   44.410000\n",
            "8555 2016-12-30   AAPL         low   53.389999\n",
            "\n",
            "[8556 rows x 4 columns]\n"
          ]
        }
      ]
    },
    {
      "cell_type": "markdown",
      "source": [
        "Convierte todas las columnas del dataset, excepto Date y Stock, en un formato largo usando melt.\n",
        "\n",
        "Contexto de negocio: Tener todas las variables en un formato largo es útil para generar reportes dinámicos que comparen diferentes tipos de datos (precios, volumen, etc.)."
      ],
      "metadata": {
        "id": "jUE9CvxMGKQA"
      }
    },
    {
      "cell_type": "code",
      "source": [
        "df_melt_all = pd.melt(df, id_vars=['date', 'ticker'], var_name='Variable', value_name='Valor')\n",
        "\n",
        "print(df_melt_all)\n"
      ],
      "metadata": {
        "id": "qloWM0gpGNNm",
        "outputId": "cc627cff-5017-4c0c-c79d-f020bf24f491",
        "colab": {
          "base_uri": "https://localhost:8080/"
        }
      },
      "execution_count": 19,
      "outputs": [
        {
          "output_type": "stream",
          "name": "stdout",
          "text": [
            "            date ticker                   Variable Valor\n",
            "0     2016-01-05   AAPL                     symbol  WLTW\n",
            "1     2016-01-06   AAPL                     symbol  WLTW\n",
            "2     2016-01-07   AAPL                     symbol  WLTW\n",
            "3     2016-01-08   AAPL                     symbol  WLTW\n",
            "4     2016-01-11   AAPL                     symbol  WLTW\n",
            "...          ...    ...                        ...   ...\n",
            "27802 2016-12-28   AAPL  Cierre_Ajustado_Mayor_155    No\n",
            "27803 2016-12-29   AAPL  Cierre_Ajustado_Mayor_155    No\n",
            "27804 2016-12-29   AAPL  Cierre_Ajustado_Mayor_155    No\n",
            "27805 2016-12-30   AAPL  Cierre_Ajustado_Mayor_155    No\n",
            "27806 2016-12-30   AAPL  Cierre_Ajustado_Mayor_155    No\n",
            "\n",
            "[27807 rows x 4 columns]\n"
          ]
        }
      ]
    },
    {
      "cell_type": "markdown",
      "source": [
        "Usa melt para convertir los precios (Open, Close, High, Low) y el volumen (Volume) en una sola columna de valor. Luego, agrupa los datos por tipo de precio y acción para calcular el promedio de cada tipo.\n",
        "\n",
        "Contexto de negocio: Este análisis permite comparar el comportamiento de diferentes precios y el volumen en un solo análisis, lo cual es útil para entender tendencias generales de la acción."
      ],
      "metadata": {
        "id": "tRKkXY7ZGNcc"
      }
    },
    {
      "cell_type": "code",
      "source": [
        "df_melt_prices_volume = pd.melt(df, id_vars=['date', 'ticker'], value_vars=['open', 'close', 'high', 'low', 'volume'], var_name='Tipo_Precio_Volumen', value_name='Valor')\n",
        "\n",
        "grouped_data = df_melt_prices_volume.groupby(['Tipo_Precio_Volumen', 'ticker'])['Valor'].mean()\n",
        "\n",
        "print(grouped_data)\n"
      ],
      "metadata": {
        "id": "yO2YZpm8GQDW",
        "outputId": "69732964-16f7-4905-9aff-0b3cb453cb68",
        "colab": {
          "base_uri": "https://localhost:8080/"
        }
      },
      "execution_count": 20,
      "outputs": [
        {
          "output_type": "stream",
          "name": "stdout",
          "text": [
            "Tipo_Precio_Volumen  ticker\n",
            "close                AAPL      4.244729e+01\n",
            "high                 AAPL      4.284243e+01\n",
            "low                  AAPL      4.198460e+01\n",
            "open                 AAPL      4.242164e+01\n",
            "volume               AAPL      1.412069e+06\n",
            "Name: Valor, dtype: float64\n"
          ]
        }
      ]
    },
    {
      "cell_type": "markdown",
      "source": [
        "Realiza una transformación melt para convertir los precios en una columna y agrúpalos por día para calcular el precio promedio diario de la acción.\n",
        "\n",
        "Contexto de negocio: Esto proporciona una visión agregada del comportamiento promedio de los precios diarios de la acción."
      ],
      "metadata": {
        "id": "8GrWsiq5GQQ4"
      }
    },
    {
      "cell_type": "code",
      "source": [
        "df_melt_daily_avg = pd.melt(df, id_vars=['date'], value_vars=['open', 'close', 'high', 'low'], var_name='Tipo_Precio', value_name='Precio')\n",
        "\n",
        "daily_avg_price = df_melt_daily_avg.groupby('date')['Precio'].mean()\n",
        "\n",
        "print(daily_avg_price)\n"
      ],
      "metadata": {
        "id": "57tn7YZlGUjH",
        "outputId": "3d0c1eff-3173-4ed4-d500-e622bb7518dc",
        "colab": {
          "base_uri": "https://localhost:8080/"
        }
      },
      "execution_count": 21,
      "outputs": [
        {
          "output_type": "stream",
          "name": "stdout",
          "text": [
            "date\n",
            "2010-01-04    16.067500\n",
            "2010-01-05    16.172500\n",
            "2010-01-06    16.565000\n",
            "2010-01-07    16.910000\n",
            "2010-01-08    16.942500\n",
            "                ...    \n",
            "2016-12-23    74.248333\n",
            "2016-12-27    74.510834\n",
            "2016-12-28    73.871667\n",
            "2016-12-29    73.597499\n",
            "2016-12-30    73.808333\n",
            "Name: Precio, Length: 1762, dtype: float64\n"
          ]
        }
      ]
    }
  ]
}