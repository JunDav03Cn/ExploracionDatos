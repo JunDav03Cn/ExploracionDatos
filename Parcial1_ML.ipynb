{
  "cells": [
    {
      "cell_type": "markdown",
      "metadata": {
        "id": "dVJ7lHDq2c5r"
      },
      "source": [
        "# Parcial de Regresión Lineal\n",
        "\n",
        "\n",
        "## Preguntas de Negocio\n",
        "1. **Predicción:** Si llega un carro con 92670.5 km, ¿a cuánto debería venderlo según el modelo?\n",
        "2. **Inversión:** Como inversionista, ¿cuáles son los vehículos (según su kilometraje) que podrían generar un margen de ganancia atractivo?\n"
      ]
    },
    {
      "cell_type": "code",
      "execution_count": 1,
      "metadata": {
        "id": "k07tDAto2c5t"
      },
      "outputs": [],
      "source": [
        "# Importar librerías necesarias\n",
        "import pandas as pd\n",
        "import numpy as np\n",
        "\n",
        "from sklearn.model_selection import train_test_split\n",
        "from sklearn.linear_model import LinearRegression\n",
        "from sklearn.metrics import mean_squared_error, mean_absolute_error, r2_score\n",
        "\n",
        "%matplotlib inline"
      ]
    },
    {
      "cell_type": "markdown",
      "metadata": {
        "id": "DSGz8xe32c5u"
      },
      "source": [
        "## 1. Cargar y Preprocesar Datos\n",
        "\n",
        "Se descarga el dataset de vehículos, se descomprime y se carga en un DataFrame. Además, se eliminan los valores faltantes."
      ]
    },
    {
      "cell_type": "code",
      "source": [
        "# Descargar y descomprimir el dataset\n",
        "!wget https://github.com/javierherrera1996/lecture_analytics/raw/main/cars_dataset.zip\n",
        "!unzip -o cars_dataset.zip\n"
      ],
      "metadata": {
        "colab": {
          "base_uri": "https://localhost:8080/"
        },
        "id": "2vtX7uwT20yl",
        "outputId": "1425cf00-c12f-4dc7-835a-2522746d9bd0"
      },
      "execution_count": 2,
      "outputs": [
        {
          "output_type": "stream",
          "name": "stdout",
          "text": [
            "--2025-03-12 20:15:29--  https://github.com/javierherrera1996/lecture_analytics/raw/main/cars_dataset.zip\n",
            "Resolving github.com (github.com)... 140.82.113.3\n",
            "Connecting to github.com (github.com)|140.82.113.3|:443... connected.\n",
            "HTTP request sent, awaiting response... 302 Found\n",
            "Location: https://raw.githubusercontent.com/javierherrera1996/lecture_analytics/main/cars_dataset.zip [following]\n",
            "--2025-03-12 20:15:29--  https://raw.githubusercontent.com/javierherrera1996/lecture_analytics/main/cars_dataset.zip\n",
            "Resolving raw.githubusercontent.com (raw.githubusercontent.com)... 185.199.110.133, 185.199.111.133, 185.199.108.133, ...\n",
            "Connecting to raw.githubusercontent.com (raw.githubusercontent.com)|185.199.110.133|:443... connected.\n",
            "HTTP request sent, awaiting response... 200 OK\n",
            "Length: 19753181 (19M) [application/zip]\n",
            "Saving to: ‘cars_dataset.zip’\n",
            "\n",
            "cars_dataset.zip    100%[===================>]  18.84M   105MB/s    in 0.2s    \n",
            "\n",
            "2025-03-12 20:15:29 (105 MB/s) - ‘cars_dataset.zip’ saved [19753181/19753181]\n",
            "\n",
            "Archive:  cars_dataset.zip\n",
            "  inflating: car_prices.csv          \n"
          ]
        }
      ]
    },
    {
      "cell_type": "code",
      "source": [],
      "metadata": {
        "id": "6vG_YwdNAlLs"
      },
      "execution_count": null,
      "outputs": []
    },
    {
      "cell_type": "code",
      "execution_count": null,
      "metadata": {
        "id": "orI-vw8A2c5v"
      },
      "outputs": [],
      "source": []
    },
    {
      "cell_type": "markdown",
      "metadata": {
        "id": "Cjs4U9HU2c5w"
      },
      "source": [
        "## 2. Análisis Exploratorio de Datos (EDA)\n",
        "\n",
        "Se generan estadísticas descriptivas para analizar las variables numéricas y entender la distribución de los datos."
      ]
    },
    {
      "cell_type": "code",
      "execution_count": 10,
      "metadata": {
        "id": "r8DvyOTC2c5w",
        "outputId": "de71b1c5-b94a-4718-dec6-309a1ef939ce",
        "colab": {
          "base_uri": "https://localhost:8080/"
        }
      },
      "outputs": [
        {
          "output_type": "stream",
          "name": "stdout",
          "text": [
            "                year      condition       odometer            mmr  \\\n",
            "count  558837.000000  547017.000000  558743.000000  558799.000000   \n",
            "mean     2010.038927      30.672365   68320.017767   13769.377495   \n",
            "std         3.966864      13.402832   53398.542821    9679.967174   \n",
            "min      1982.000000       1.000000       1.000000      25.000000   \n",
            "25%      2007.000000      23.000000   28371.000000    7100.000000   \n",
            "50%      2012.000000      35.000000   52254.000000   12250.000000   \n",
            "75%      2013.000000      42.000000   99109.000000   18300.000000   \n",
            "max      2015.000000      49.000000  999999.000000  182000.000000   \n",
            "\n",
            "        sellingprice  \n",
            "count  558825.000000  \n",
            "mean    13611.358810  \n",
            "std      9749.501628  \n",
            "min         1.000000  \n",
            "25%      6900.000000  \n",
            "50%     12100.000000  \n",
            "75%     18200.000000  \n",
            "max    230000.000000  \n"
          ]
        }
      ],
      "source": [
        "df_cars = pd.read_csv('cars_dataset.zip')\n",
        "\n",
        "print(df_cars.describe())"
      ]
    },
    {
      "cell_type": "code",
      "source": [
        "df_cars.dropna(subset=['sellingprice'], inplace=True)"
      ],
      "metadata": {
        "id": "IPO1x3AKDFdL"
      },
      "execution_count": 15,
      "outputs": []
    },
    {
      "cell_type": "markdown",
      "metadata": {
        "id": "20HEM8yr2c5w"
      },
      "source": [
        "## 3. Modelo de Regresión Lineal\n",
        "\n",
        "Se utiliza la variable 'odometer' para predecir 'sellingprice'. Se dividen los datos en conjunto de entrenamiento y prueba (80%-20%)."
      ]
    },
    {
      "cell_type": "code",
      "execution_count": 16,
      "metadata": {
        "id": "XC3SCRIk2c5x"
      },
      "outputs": [],
      "source": [
        "X = df_cars[['odometer']]\n",
        "y = df_cars['sellingprice']\n",
        "X_train, X_test, y_train, y_test = train_test_split(X, y, test_size=0.2, random_state=42)"
      ]
    },
    {
      "cell_type": "markdown",
      "metadata": {
        "id": "zN0tFURm2c5x"
      },
      "source": [
        "## 4. Evaluación del Modelo\n",
        "\n",
        "Se evalúa el desempeño del modelo en el conjunto de prueba utilizando métricas como MSE, MAE y R²."
      ]
    },
    {
      "cell_type": "code",
      "execution_count": 17,
      "metadata": {
        "id": "wL2xptp_2c5x",
        "outputId": "f7c0169e-6e53-412a-de78-c3d1067a1493",
        "colab": {
          "base_uri": "https://localhost:8080/"
        }
      },
      "outputs": [
        {
          "output_type": "stream",
          "name": "stdout",
          "text": [
            "Mean Squared Error (MSE): 62819697.69137249\n",
            "Mean Absolute Error (MAE): 5489.1190495714045\n",
            "R-squared (R2): 0.34163406700582544\n"
          ]
        }
      ],
      "source": [
        "model = LinearRegression()\n",
        "model.fit(X_train, y_train)\n",
        "\n",
        "y_pred = model.predict(X_test)\n",
        "\n",
        "mse = mean_squared_error(y_test, y_pred)\n",
        "mae = mean_absolute_error(y_test, y_pred)\n",
        "r2 = r2_score(y_test, y_pred)\n",
        "\n",
        "print(f\"Mean Squared Error (MSE): {mse}\")\n",
        "print(f\"Mean Absolute Error (MAE): {mae}\")\n",
        "print(f\"R-squared (R2): {r2}\")\n"
      ]
    },
    {
      "cell_type": "markdown",
      "metadata": {
        "id": "27nhHQdY2c5x"
      },
      "source": [
        "## 5. Predicción y Respuestas a Preguntas de Negocio\n",
        "\n",
        "### Pregunta 1: Precio Estimado para un Carro con 92670.5 km\n",
        "\n",
        "Utilizamos el modelo para predecir el precio de venta de un carro con 92670.5 km."
      ]
    },
    {
      "cell_type": "code",
      "execution_count": 19,
      "metadata": {
        "id": "dMhv6HZN2c5x",
        "outputId": "c03d7d51-4e2e-4aa4-ae56-9aa9a8674a3e",
        "colab": {
          "base_uri": "https://localhost:8080/"
        }
      },
      "outputs": [
        {
          "output_type": "stream",
          "name": "stdout",
          "text": [
            "El precio estimado para un carro con 92670.5 km es: 11024.682035617381\n"
          ]
        },
        {
          "output_type": "stream",
          "name": "stderr",
          "text": [
            "/usr/local/lib/python3.11/dist-packages/sklearn/utils/validation.py:2739: UserWarning: X does not have valid feature names, but LinearRegression was fitted with feature names\n",
            "  warnings.warn(\n"
          ]
        }
      ],
      "source": [
        "new_car_mileage = np.array([[92670.5]])\n",
        "predicted_price = model.predict(new_car_mileage)\n",
        "\n",
        "print(f\"El precio estimado para un carro con 92670.5 km es: {predicted_price[0]}\")"
      ]
    },
    {
      "cell_type": "markdown",
      "metadata": {
        "id": "Fr74B3XP2c5x"
      },
      "source": [
        "## 6. Análisis Crítico de Resultados (10 Puntos Cerrados)\n",
        "\n",
        "Responde a las siguientes preguntas de manera cerrada (Sí/No). Estas preguntas facilitan una calificación rápida:\n",
        "\n",
        "1. ¿El coeficiente negativo (-0.107) indica que a mayor kilometraje, menor precio de venta? (Sí/No)\n",
        "2. ¿Un R² de 0.336 sugiere que el modelo explica más del 50% de la variabilidad en el precio de venta? (Sí/No)\n",
        "3. ¿El valor elevado del MSE indica que existen errores importantes en las predicciones? (Sí/No)\n",
        "4. ¿El MAE obtenido es suficientemente bajo para garantizar predicciones precisas en todos los casos? (Sí/No)\n",
        "5. ¿La eliminación de filas con valores faltantes puede reducir la robustez del modelo? (Sí/No)\n",
        "6. ¿Incluir variables adicionales como año, condición y marca podría mejorar la capacidad predictiva del modelo? (Sí/No)\n",
        "7. ¿La relación negativa entre kilometraje y precio es consistente con el comportamiento esperado en el mercado de vehículos? (Sí/No)\n",
        "8. ¿Dividir los datos en 80% entrenamiento y 20% prueba es una práctica recomendada para evaluar el modelo? (Sí/No)\n"
      ]
    },
    {
      "cell_type": "markdown",
      "source": [
        "1. si\n",
        "2. no\n",
        "3. si\n",
        "4. no\n",
        "5. si\n",
        "6. si\n",
        "7. si\n",
        "8. si"
      ],
      "metadata": {
        "id": "AJT0mFZEDc3q"
      }
    }
  ],
  "metadata": {
    "colab": {
      "provenance": []
    },
    "kernelspec": {
      "display_name": "Python 3",
      "language": "python",
      "name": "python3"
    },
    "language_info": {
      "name": "python"
    }
  },
  "nbformat": 4,
  "nbformat_minor": 0
}